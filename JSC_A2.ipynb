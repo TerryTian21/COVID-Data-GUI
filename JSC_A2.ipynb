{
  "nbformat": 4,
  "nbformat_minor": 0,
  "metadata": {
    "colab": {
      "provenance": [],
      "toc_visible": true,
      "authorship_tag": "ABX9TyN8GJtyTrz3/cDGe2sJswsL",
      "include_colab_link": true
    },
    "kernelspec": {
      "name": "python3",
      "display_name": "Python 3"
    },
    "language_info": {
      "name": "python"
    }
  },
  "cells": [
    {
      "cell_type": "markdown",
      "metadata": {
        "id": "view-in-github",
        "colab_type": "text"
      },
      "source": [
        "<a href=\"https://colab.research.google.com/github/TerryTian21/COVID-Data-GUI/blob/main/JSC_A2.ipynb\" target=\"_parent\"><img src=\"https://colab.research.google.com/assets/colab-badge.svg\" alt=\"Open In Colab\"/></a>"
      ]
    },
    {
      "cell_type": "markdown",
      "source": [
        "# Libraries"
      ],
      "metadata": {
        "id": "bq1WTbOemdao"
      }
    },
    {
      "cell_type": "code",
      "execution_count": 2,
      "metadata": {
        "id": "M200W0NRlX_-"
      },
      "outputs": [],
      "source": [
        "import pandas as pd\n",
        "import numpy as np\n",
        "import matplotlib.pyplot as plt\n",
        "import seaborn as sns\n",
        "import sklearn\n",
        "import statsmodels.api as sm\n",
        "import statsmodels.formula.api as smf "
      ]
    },
    {
      "cell_type": "markdown",
      "source": [
        "#Data"
      ],
      "metadata": {
        "id": "FiBuAY4bml3p"
      }
    },
    {
      "cell_type": "code",
      "source": [
        "path = \"https://archive.ics.uci.edu/ml/machine-learning-databases/adult/adult.data\"\n",
        "income_df = pd.read_csv(path)\n",
        "income_df.columns = ['age','workclass', 'fnlwgt','education','education_num','marital_status','occupation',\n",
        "                    'relationship','race','sex','capital_gain','capital_loss','hours_per_week','native_country','gross_income_group']"
      ],
      "metadata": {
        "id": "EGd4lxgDmlME"
      },
      "execution_count": 19,
      "outputs": []
    },
    {
      "cell_type": "markdown",
      "source": [
        "# Initial Data Exploration"
      ],
      "metadata": {
        "id": "xR9ebEqgppOK"
      }
    },
    {
      "cell_type": "markdown",
      "source": [
        "## Analyzing Columns\n",
        "- From the following code observe a sample of the dataset by looking at the first 10 row\n",
        "- There are a total of 14 columns \n",
        "- The data types for each column match the description outlined in [data](https://archive.ics.uci.edu/ml/machine-learning-databases/adult/adult.names).\n",
        "\n",
        "DataTypes \n",
        "\n",
        "- Age, Captial Gain, Capital Loss and Hours per week are type int64 -> Continuous Data\n",
        "- The rest of the data is type Object which implies strings and consistent as they are categorical data"
      ],
      "metadata": {
        "id": "pspMeptBpsPt"
      }
    },
    {
      "cell_type": "code",
      "source": [
        "income_df.head(10)"
      ],
      "metadata": {
        "colab": {
          "base_uri": "https://localhost:8080/",
          "height": 600
        },
        "id": "uYAvyuk7qzTP",
        "outputId": "d992b8c7-4833-4242-ba47-7fd72810e2e2"
      },
      "execution_count": 24,
      "outputs": [
        {
          "output_type": "execute_result",
          "data": {
            "text/plain": [
              "   age          workclass  fnlwgt      education  education_num  \\\n",
              "0   50   Self-emp-not-inc   83311      Bachelors             13   \n",
              "1   38            Private  215646        HS-grad              9   \n",
              "2   53            Private  234721           11th              7   \n",
              "3   28            Private  338409      Bachelors             13   \n",
              "4   37            Private  284582        Masters             14   \n",
              "5   49            Private  160187            9th              5   \n",
              "6   52   Self-emp-not-inc  209642        HS-grad              9   \n",
              "7   31            Private   45781        Masters             14   \n",
              "8   42            Private  159449      Bachelors             13   \n",
              "9   37            Private  280464   Some-college             10   \n",
              "\n",
              "           marital_status          occupation    relationship    race  \\\n",
              "0      Married-civ-spouse     Exec-managerial         Husband   White   \n",
              "1                Divorced   Handlers-cleaners   Not-in-family   White   \n",
              "2      Married-civ-spouse   Handlers-cleaners         Husband   Black   \n",
              "3      Married-civ-spouse      Prof-specialty            Wife   Black   \n",
              "4      Married-civ-spouse     Exec-managerial            Wife   White   \n",
              "5   Married-spouse-absent       Other-service   Not-in-family   Black   \n",
              "6      Married-civ-spouse     Exec-managerial         Husband   White   \n",
              "7           Never-married      Prof-specialty   Not-in-family   White   \n",
              "8      Married-civ-spouse     Exec-managerial         Husband   White   \n",
              "9      Married-civ-spouse     Exec-managerial         Husband   Black   \n",
              "\n",
              "       sex  capital_gain  capital_loss  hours_per_week  native_country  \\\n",
              "0     Male             0             0              13   United-States   \n",
              "1     Male             0             0              40   United-States   \n",
              "2     Male             0             0              40   United-States   \n",
              "3   Female             0             0              40            Cuba   \n",
              "4   Female             0             0              40   United-States   \n",
              "5   Female             0             0              16         Jamaica   \n",
              "6     Male             0             0              45   United-States   \n",
              "7   Female         14084             0              50   United-States   \n",
              "8     Male          5178             0              40   United-States   \n",
              "9     Male             0             0              80   United-States   \n",
              "\n",
              "  gross_income_group  \n",
              "0              <=50K  \n",
              "1              <=50K  \n",
              "2              <=50K  \n",
              "3              <=50K  \n",
              "4              <=50K  \n",
              "5              <=50K  \n",
              "6               >50K  \n",
              "7               >50K  \n",
              "8               >50K  \n",
              "9               >50K  "
            ],
            "text/html": [
              "\n",
              "  <div id=\"df-329df871-be33-4068-a267-28b862abbe94\">\n",
              "    <div class=\"colab-df-container\">\n",
              "      <div>\n",
              "<style scoped>\n",
              "    .dataframe tbody tr th:only-of-type {\n",
              "        vertical-align: middle;\n",
              "    }\n",
              "\n",
              "    .dataframe tbody tr th {\n",
              "        vertical-align: top;\n",
              "    }\n",
              "\n",
              "    .dataframe thead th {\n",
              "        text-align: right;\n",
              "    }\n",
              "</style>\n",
              "<table border=\"1\" class=\"dataframe\">\n",
              "  <thead>\n",
              "    <tr style=\"text-align: right;\">\n",
              "      <th></th>\n",
              "      <th>age</th>\n",
              "      <th>workclass</th>\n",
              "      <th>fnlwgt</th>\n",
              "      <th>education</th>\n",
              "      <th>education_num</th>\n",
              "      <th>marital_status</th>\n",
              "      <th>occupation</th>\n",
              "      <th>relationship</th>\n",
              "      <th>race</th>\n",
              "      <th>sex</th>\n",
              "      <th>capital_gain</th>\n",
              "      <th>capital_loss</th>\n",
              "      <th>hours_per_week</th>\n",
              "      <th>native_country</th>\n",
              "      <th>gross_income_group</th>\n",
              "    </tr>\n",
              "  </thead>\n",
              "  <tbody>\n",
              "    <tr>\n",
              "      <th>0</th>\n",
              "      <td>50</td>\n",
              "      <td>Self-emp-not-inc</td>\n",
              "      <td>83311</td>\n",
              "      <td>Bachelors</td>\n",
              "      <td>13</td>\n",
              "      <td>Married-civ-spouse</td>\n",
              "      <td>Exec-managerial</td>\n",
              "      <td>Husband</td>\n",
              "      <td>White</td>\n",
              "      <td>Male</td>\n",
              "      <td>0</td>\n",
              "      <td>0</td>\n",
              "      <td>13</td>\n",
              "      <td>United-States</td>\n",
              "      <td>&lt;=50K</td>\n",
              "    </tr>\n",
              "    <tr>\n",
              "      <th>1</th>\n",
              "      <td>38</td>\n",
              "      <td>Private</td>\n",
              "      <td>215646</td>\n",
              "      <td>HS-grad</td>\n",
              "      <td>9</td>\n",
              "      <td>Divorced</td>\n",
              "      <td>Handlers-cleaners</td>\n",
              "      <td>Not-in-family</td>\n",
              "      <td>White</td>\n",
              "      <td>Male</td>\n",
              "      <td>0</td>\n",
              "      <td>0</td>\n",
              "      <td>40</td>\n",
              "      <td>United-States</td>\n",
              "      <td>&lt;=50K</td>\n",
              "    </tr>\n",
              "    <tr>\n",
              "      <th>2</th>\n",
              "      <td>53</td>\n",
              "      <td>Private</td>\n",
              "      <td>234721</td>\n",
              "      <td>11th</td>\n",
              "      <td>7</td>\n",
              "      <td>Married-civ-spouse</td>\n",
              "      <td>Handlers-cleaners</td>\n",
              "      <td>Husband</td>\n",
              "      <td>Black</td>\n",
              "      <td>Male</td>\n",
              "      <td>0</td>\n",
              "      <td>0</td>\n",
              "      <td>40</td>\n",
              "      <td>United-States</td>\n",
              "      <td>&lt;=50K</td>\n",
              "    </tr>\n",
              "    <tr>\n",
              "      <th>3</th>\n",
              "      <td>28</td>\n",
              "      <td>Private</td>\n",
              "      <td>338409</td>\n",
              "      <td>Bachelors</td>\n",
              "      <td>13</td>\n",
              "      <td>Married-civ-spouse</td>\n",
              "      <td>Prof-specialty</td>\n",
              "      <td>Wife</td>\n",
              "      <td>Black</td>\n",
              "      <td>Female</td>\n",
              "      <td>0</td>\n",
              "      <td>0</td>\n",
              "      <td>40</td>\n",
              "      <td>Cuba</td>\n",
              "      <td>&lt;=50K</td>\n",
              "    </tr>\n",
              "    <tr>\n",
              "      <th>4</th>\n",
              "      <td>37</td>\n",
              "      <td>Private</td>\n",
              "      <td>284582</td>\n",
              "      <td>Masters</td>\n",
              "      <td>14</td>\n",
              "      <td>Married-civ-spouse</td>\n",
              "      <td>Exec-managerial</td>\n",
              "      <td>Wife</td>\n",
              "      <td>White</td>\n",
              "      <td>Female</td>\n",
              "      <td>0</td>\n",
              "      <td>0</td>\n",
              "      <td>40</td>\n",
              "      <td>United-States</td>\n",
              "      <td>&lt;=50K</td>\n",
              "    </tr>\n",
              "    <tr>\n",
              "      <th>5</th>\n",
              "      <td>49</td>\n",
              "      <td>Private</td>\n",
              "      <td>160187</td>\n",
              "      <td>9th</td>\n",
              "      <td>5</td>\n",
              "      <td>Married-spouse-absent</td>\n",
              "      <td>Other-service</td>\n",
              "      <td>Not-in-family</td>\n",
              "      <td>Black</td>\n",
              "      <td>Female</td>\n",
              "      <td>0</td>\n",
              "      <td>0</td>\n",
              "      <td>16</td>\n",
              "      <td>Jamaica</td>\n",
              "      <td>&lt;=50K</td>\n",
              "    </tr>\n",
              "    <tr>\n",
              "      <th>6</th>\n",
              "      <td>52</td>\n",
              "      <td>Self-emp-not-inc</td>\n",
              "      <td>209642</td>\n",
              "      <td>HS-grad</td>\n",
              "      <td>9</td>\n",
              "      <td>Married-civ-spouse</td>\n",
              "      <td>Exec-managerial</td>\n",
              "      <td>Husband</td>\n",
              "      <td>White</td>\n",
              "      <td>Male</td>\n",
              "      <td>0</td>\n",
              "      <td>0</td>\n",
              "      <td>45</td>\n",
              "      <td>United-States</td>\n",
              "      <td>&gt;50K</td>\n",
              "    </tr>\n",
              "    <tr>\n",
              "      <th>7</th>\n",
              "      <td>31</td>\n",
              "      <td>Private</td>\n",
              "      <td>45781</td>\n",
              "      <td>Masters</td>\n",
              "      <td>14</td>\n",
              "      <td>Never-married</td>\n",
              "      <td>Prof-specialty</td>\n",
              "      <td>Not-in-family</td>\n",
              "      <td>White</td>\n",
              "      <td>Female</td>\n",
              "      <td>14084</td>\n",
              "      <td>0</td>\n",
              "      <td>50</td>\n",
              "      <td>United-States</td>\n",
              "      <td>&gt;50K</td>\n",
              "    </tr>\n",
              "    <tr>\n",
              "      <th>8</th>\n",
              "      <td>42</td>\n",
              "      <td>Private</td>\n",
              "      <td>159449</td>\n",
              "      <td>Bachelors</td>\n",
              "      <td>13</td>\n",
              "      <td>Married-civ-spouse</td>\n",
              "      <td>Exec-managerial</td>\n",
              "      <td>Husband</td>\n",
              "      <td>White</td>\n",
              "      <td>Male</td>\n",
              "      <td>5178</td>\n",
              "      <td>0</td>\n",
              "      <td>40</td>\n",
              "      <td>United-States</td>\n",
              "      <td>&gt;50K</td>\n",
              "    </tr>\n",
              "    <tr>\n",
              "      <th>9</th>\n",
              "      <td>37</td>\n",
              "      <td>Private</td>\n",
              "      <td>280464</td>\n",
              "      <td>Some-college</td>\n",
              "      <td>10</td>\n",
              "      <td>Married-civ-spouse</td>\n",
              "      <td>Exec-managerial</td>\n",
              "      <td>Husband</td>\n",
              "      <td>Black</td>\n",
              "      <td>Male</td>\n",
              "      <td>0</td>\n",
              "      <td>0</td>\n",
              "      <td>80</td>\n",
              "      <td>United-States</td>\n",
              "      <td>&gt;50K</td>\n",
              "    </tr>\n",
              "  </tbody>\n",
              "</table>\n",
              "</div>\n",
              "      <button class=\"colab-df-convert\" onclick=\"convertToInteractive('df-329df871-be33-4068-a267-28b862abbe94')\"\n",
              "              title=\"Convert this dataframe to an interactive table.\"\n",
              "              style=\"display:none;\">\n",
              "        \n",
              "  <svg xmlns=\"http://www.w3.org/2000/svg\" height=\"24px\"viewBox=\"0 0 24 24\"\n",
              "       width=\"24px\">\n",
              "    <path d=\"M0 0h24v24H0V0z\" fill=\"none\"/>\n",
              "    <path d=\"M18.56 5.44l.94 2.06.94-2.06 2.06-.94-2.06-.94-.94-2.06-.94 2.06-2.06.94zm-11 1L8.5 8.5l.94-2.06 2.06-.94-2.06-.94L8.5 2.5l-.94 2.06-2.06.94zm10 10l.94 2.06.94-2.06 2.06-.94-2.06-.94-.94-2.06-.94 2.06-2.06.94z\"/><path d=\"M17.41 7.96l-1.37-1.37c-.4-.4-.92-.59-1.43-.59-.52 0-1.04.2-1.43.59L10.3 9.45l-7.72 7.72c-.78.78-.78 2.05 0 2.83L4 21.41c.39.39.9.59 1.41.59.51 0 1.02-.2 1.41-.59l7.78-7.78 2.81-2.81c.8-.78.8-2.07 0-2.86zM5.41 20L4 18.59l7.72-7.72 1.47 1.35L5.41 20z\"/>\n",
              "  </svg>\n",
              "      </button>\n",
              "      \n",
              "  <style>\n",
              "    .colab-df-container {\n",
              "      display:flex;\n",
              "      flex-wrap:wrap;\n",
              "      gap: 12px;\n",
              "    }\n",
              "\n",
              "    .colab-df-convert {\n",
              "      background-color: #E8F0FE;\n",
              "      border: none;\n",
              "      border-radius: 50%;\n",
              "      cursor: pointer;\n",
              "      display: none;\n",
              "      fill: #1967D2;\n",
              "      height: 32px;\n",
              "      padding: 0 0 0 0;\n",
              "      width: 32px;\n",
              "    }\n",
              "\n",
              "    .colab-df-convert:hover {\n",
              "      background-color: #E2EBFA;\n",
              "      box-shadow: 0px 1px 2px rgba(60, 64, 67, 0.3), 0px 1px 3px 1px rgba(60, 64, 67, 0.15);\n",
              "      fill: #174EA6;\n",
              "    }\n",
              "\n",
              "    [theme=dark] .colab-df-convert {\n",
              "      background-color: #3B4455;\n",
              "      fill: #D2E3FC;\n",
              "    }\n",
              "\n",
              "    [theme=dark] .colab-df-convert:hover {\n",
              "      background-color: #434B5C;\n",
              "      box-shadow: 0px 1px 3px 1px rgba(0, 0, 0, 0.15);\n",
              "      filter: drop-shadow(0px 1px 2px rgba(0, 0, 0, 0.3));\n",
              "      fill: #FFFFFF;\n",
              "    }\n",
              "  </style>\n",
              "\n",
              "      <script>\n",
              "        const buttonEl =\n",
              "          document.querySelector('#df-329df871-be33-4068-a267-28b862abbe94 button.colab-df-convert');\n",
              "        buttonEl.style.display =\n",
              "          google.colab.kernel.accessAllowed ? 'block' : 'none';\n",
              "\n",
              "        async function convertToInteractive(key) {\n",
              "          const element = document.querySelector('#df-329df871-be33-4068-a267-28b862abbe94');\n",
              "          const dataTable =\n",
              "            await google.colab.kernel.invokeFunction('convertToInteractive',\n",
              "                                                     [key], {});\n",
              "          if (!dataTable) return;\n",
              "\n",
              "          const docLinkHtml = 'Like what you see? Visit the ' +\n",
              "            '<a target=\"_blank\" href=https://colab.research.google.com/notebooks/data_table.ipynb>data table notebook</a>'\n",
              "            + ' to learn more about interactive tables.';\n",
              "          element.innerHTML = '';\n",
              "          dataTable['output_type'] = 'display_data';\n",
              "          await google.colab.output.renderOutput(dataTable, element);\n",
              "          const docLink = document.createElement('div');\n",
              "          docLink.innerHTML = docLinkHtml;\n",
              "          element.appendChild(docLink);\n",
              "        }\n",
              "      </script>\n",
              "    </div>\n",
              "  </div>\n",
              "  "
            ]
          },
          "metadata": {},
          "execution_count": 24
        }
      ]
    },
    {
      "cell_type": "code",
      "source": [
        "income_df.info()"
      ],
      "metadata": {
        "colab": {
          "base_uri": "https://localhost:8080/"
        },
        "id": "D-tf6L-6q2v2",
        "outputId": "bc513d4b-dee8-4647-cf41-569f0b914029"
      },
      "execution_count": 25,
      "outputs": [
        {
          "output_type": "stream",
          "name": "stdout",
          "text": [
            "<class 'pandas.core.frame.DataFrame'>\n",
            "RangeIndex: 32560 entries, 0 to 32559\n",
            "Data columns (total 15 columns):\n",
            " #   Column              Non-Null Count  Dtype \n",
            "---  ------              --------------  ----- \n",
            " 0   age                 32560 non-null  int64 \n",
            " 1   workclass           32560 non-null  object\n",
            " 2   fnlwgt              32560 non-null  int64 \n",
            " 3   education           32560 non-null  object\n",
            " 4   education_num       32560 non-null  int64 \n",
            " 5   marital_status      32560 non-null  object\n",
            " 6   occupation          32560 non-null  object\n",
            " 7   relationship        32560 non-null  object\n",
            " 8   race                32560 non-null  object\n",
            " 9   sex                 32560 non-null  object\n",
            " 10  capital_gain        32560 non-null  int64 \n",
            " 11  capital_loss        32560 non-null  int64 \n",
            " 12  hours_per_week      32560 non-null  int64 \n",
            " 13  native_country      32560 non-null  object\n",
            " 14  gross_income_group  32560 non-null  object\n",
            "dtypes: int64(6), object(9)\n",
            "memory usage: 3.7+ MB\n"
          ]
        }
      ]
    },
    {
      "cell_type": "markdown",
      "source": [
        "## Missing Data\n",
        "- Observe the next code section which displays the NaN data for each column.\n",
        "- Notice how there are no values explicitly labelled as Nan or Null"
      ],
      "metadata": {
        "id": "fmm89R5tt0Ua"
      }
    },
    {
      "cell_type": "code",
      "source": [
        "income_df.isna().sum()"
      ],
      "metadata": {
        "colab": {
          "base_uri": "https://localhost:8080/"
        },
        "id": "tqrCSxWOwRmh",
        "outputId": "c964701e-cdd3-4e17-b00b-5b3aa94f915f"
      },
      "execution_count": 46,
      "outputs": [
        {
          "output_type": "execute_result",
          "data": {
            "text/plain": [
              "age                   0\n",
              "workclass             0\n",
              "fnlwgt                0\n",
              "education             0\n",
              "education_num         0\n",
              "marital_status        0\n",
              "occupation            0\n",
              "relationship          0\n",
              "race                  0\n",
              "sex                   0\n",
              "capital_gain          0\n",
              "capital_loss          0\n",
              "hours_per_week        0\n",
              "native_country        0\n",
              "gross_income_group    0\n",
              "dtype: int64"
            ]
          },
          "metadata": {},
          "execution_count": 46
        }
      ]
    },
    {
      "cell_type": "markdown",
      "source": [
        "- However if we manually look through the dataset, we observe '?' values, which we take to be missing.\n",
        "- Notice how : workclass, occupation, and native_country have 1836, 1843 and 583 null values respectively"
      ],
      "metadata": {
        "id": "a9eq3N4wwIra"
      }
    },
    {
      "cell_type": "code",
      "source": [
        "# Find the number of ? in each column\n",
        "count_question_marks = lambda col: col.astype(str).str.count('\\?').sum()\n",
        "income_df.apply(count_question_marks)"
      ],
      "metadata": {
        "colab": {
          "base_uri": "https://localhost:8080/"
        },
        "id": "psghGedht0Bj",
        "outputId": "a2821bbd-4b4a-4b9b-dee6-570b150b1fde"
      },
      "execution_count": 47,
      "outputs": [
        {
          "output_type": "execute_result",
          "data": {
            "text/plain": [
              "age                      0\n",
              "workclass             1836\n",
              "fnlwgt                   0\n",
              "education                0\n",
              "education_num            0\n",
              "marital_status           0\n",
              "occupation            1843\n",
              "relationship             0\n",
              "race                     0\n",
              "sex                      0\n",
              "capital_gain             0\n",
              "capital_loss             0\n",
              "hours_per_week           0\n",
              "native_country         583\n",
              "gross_income_group       0\n",
              "dtype: int64"
            ]
          },
          "metadata": {},
          "execution_count": 47
        }
      ]
    },
    {
      "cell_type": "code",
      "source": [
        "income_df = income_df.replace(' ?', np.NaN)\n",
        "income_df.isna().sum()"
      ],
      "metadata": {
        "colab": {
          "base_uri": "https://localhost:8080/"
        },
        "id": "3tUoDlLZw_gT",
        "outputId": "f872c500-18c8-4749-fc82-993066bbdbb4"
      },
      "execution_count": 53,
      "outputs": [
        {
          "output_type": "execute_result",
          "data": {
            "text/plain": [
              "age                      0\n",
              "workclass             1836\n",
              "fnlwgt                   0\n",
              "education                0\n",
              "education_num            0\n",
              "marital_status           0\n",
              "occupation            1843\n",
              "relationship             0\n",
              "race                     0\n",
              "sex                      0\n",
              "capital_gain             0\n",
              "capital_loss             0\n",
              "hours_per_week           0\n",
              "native_country         583\n",
              "gross_income_group       0\n",
              "dtype: int64"
            ]
          },
          "metadata": {},
          "execution_count": 53
        }
      ]
    },
    {
      "cell_type": "markdown",
      "source": [
        "##Plotting Distributions \n",
        "\n",
        "- From the following graphs, we see there is a high concentration of \n"
      ],
      "metadata": {
        "id": "zuipp27-_VSB"
      }
    },
    {
      "cell_type": "code",
      "source": [
        "capital = income_df[['capital_gain', 'capital_loss']]\n",
        "capital.hist(bins=30, grid=False)\n",
        "plt.subplots_adjust(hspace=0.7, wspace=0.4)"
      ],
      "metadata": {
        "colab": {
          "base_uri": "https://localhost:8080/",
          "height": 281
        },
        "id": "z9Fg3Aui_7rx",
        "outputId": "de9d804a-1cef-4188-fc5c-5b4792f56086"
      },
      "execution_count": 57,
      "outputs": [
        {
          "output_type": "display_data",
          "data": {
            "text/plain": [
              "<Figure size 432x288 with 2 Axes>"
            ],
            "image/png": "[encoded data removed]"
          },
          "metadata": {
            "needs_background": "light"
          }
        }
      ]
    }
  ]
}