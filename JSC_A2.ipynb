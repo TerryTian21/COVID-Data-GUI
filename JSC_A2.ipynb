{
  "nbformat": 4,
  "nbformat_minor": 0,
  "metadata": {
    "colab": {
      "provenance": [],
      "toc_visible": true,
      "authorship_tag": "ABX9TyMQzQgblzlX4lpKMKKJkKpE",
      "include_colab_link": true
    },
    "kernelspec": {
      "name": "python3",
      "display_name": "Python 3"
    },
    "language_info": {
      "name": "python"
    }
  },
  "cells": [
    {
      "cell_type": "markdown",
      "metadata": {
        "id": "view-in-github",
        "colab_type": "text"
      },
      "source": [
        "<a href=\"https://colab.research.google.com/github/TerryTian21/COVID-Data-GUI/blob/main/JSC_A2.ipynb\" target=\"_parent\"><img src=\"https://colab.research.google.com/assets/colab-badge.svg\" alt=\"Open In Colab\"/></a>"
      ]
    },
    {
      "cell_type": "markdown",
      "source": [
        "[Link to Github](https://github.com/TerryTian21/COVID-Data-GUI/blob/main/JSC_A2.ipynb)"
      ],
      "metadata": {
        "id": "2oz1v5wTDsO9"
      }
    },
    {
      "cell_type": "markdown",
      "source": [
        "# Libraries"
      ],
      "metadata": {
        "id": "bq1WTbOemdao"
      }
    },
    {
      "cell_type": "code",
      "execution_count": null,
      "metadata": {
        "id": "M200W0NRlX_-"
      },
      "outputs": [],
      "source": [
        "import pandas as pd\n",
        "import numpy as np\n",
        "import matplotlib.pyplot as plt\n",
        "import seaborn as sns\n",
        "import sklearn\n",
        "import statsmodels.api as sm\n",
        "import statsmodels.formula.api as smf "
      ]
    },
    {
      "cell_type": "markdown",
      "source": [
        "#Data"
      ],
      "metadata": {
        "id": "FiBuAY4bml3p"
      }
    },
    {
      "cell_type": "code",
      "source": [
        "path = \"https://archive.ics.uci.edu/ml/machine-learning-databases/adult/adult.data\"\n",
        "income_df = pd.read_csv(path)\n",
        "income_df.columns = ['age','workclass', 'fnlwgt','education','education_num','marital_status','occupation',\n",
        "                    'relationship','race','sex','capital_gain','capital_loss','hours_per_week','native_country','gross_income_group']"
      ],
      "metadata": {
        "id": "EGd4lxgDmlME"
      },
      "execution_count": null,
      "outputs": []
    },
    {
      "cell_type": "markdown",
      "source": [
        "# Initial Data Exploration"
      ],
      "metadata": {
        "id": "xR9ebEqgppOK"
      }
    },
    {
      "cell_type": "markdown",
      "source": [
        "## Analyzing Columns\n",
        "- From the following code observe a sample of the dataset by looking at the first 10 row\n",
        "- There are a total of 14 columns \n",
        "- The data types for each column match the description outlined in [data](https://archive.ics.uci.edu/ml/machine-learning-databases/adult/adult.names).\n",
        "\n",
        "DataTypes \n",
        "\n",
        "- Age, Captial Gain, Capital Loss and Hours per week are type int64 -> Continuous Data\n",
        "- The rest of the data is type Object which implies strings and consistent as they are categorical data"
      ],
      "metadata": {
        "id": "pspMeptBpsPt"
      }
    },
    {
      "cell_type": "code",
      "source": [
        "income_df.head(10)"
      ],
      "metadata": {
        "colab": {
          "base_uri": "https://localhost:8080/",
          "height": 546
        },
        "id": "uYAvyuk7qzTP",
        "outputId": "1176f356-dcb0-4dd3-c31f-d44a605a9913"
      },
      "execution_count": null,
      "outputs": [
        {
          "output_type": "execute_result",
          "data": {
            "text/plain": [
              "   age          workclass  fnlwgt      education  education_num  \\\n",
              "0   50   Self-emp-not-inc   83311      Bachelors             13   \n",
              "1   38            Private  215646        HS-grad              9   \n",
              "2   53            Private  234721           11th              7   \n",
              "3   28            Private  338409      Bachelors             13   \n",
              "4   37            Private  284582        Masters             14   \n",
              "5   49            Private  160187            9th              5   \n",
              "6   52   Self-emp-not-inc  209642        HS-grad              9   \n",
              "7   31            Private   45781        Masters             14   \n",
              "8   42            Private  159449      Bachelors             13   \n",
              "9   37            Private  280464   Some-college             10   \n",
              "\n",
              "           marital_status          occupation    relationship    race  \\\n",
              "0      Married-civ-spouse     Exec-managerial         Husband   White   \n",
              "1                Divorced   Handlers-cleaners   Not-in-family   White   \n",
              "2      Married-civ-spouse   Handlers-cleaners         Husband   Black   \n",
              "3      Married-civ-spouse      Prof-specialty            Wife   Black   \n",
              "4      Married-civ-spouse     Exec-managerial            Wife   White   \n",
              "5   Married-spouse-absent       Other-service   Not-in-family   Black   \n",
              "6      Married-civ-spouse     Exec-managerial         Husband   White   \n",
              "7           Never-married      Prof-specialty   Not-in-family   White   \n",
              "8      Married-civ-spouse     Exec-managerial         Husband   White   \n",
              "9      Married-civ-spouse     Exec-managerial         Husband   Black   \n",
              "\n",
              "       sex  capital_gain  capital_loss  hours_per_week  native_country  \\\n",
              "0     Male             0             0              13   United-States   \n",
              "1     Male             0             0              40   United-States   \n",
              "2     Male             0             0              40   United-States   \n",
              "3   Female             0             0              40            Cuba   \n",
              "4   Female             0             0              40   United-States   \n",
              "5   Female             0             0              16         Jamaica   \n",
              "6     Male             0             0              45   United-States   \n",
              "7   Female         14084             0              50   United-States   \n",
              "8     Male          5178             0              40   United-States   \n",
              "9     Male             0             0              80   United-States   \n",
              "\n",
              "  gross_income_group  \n",
              "0              <=50K  \n",
              "1              <=50K  \n",
              "2              <=50K  \n",
              "3              <=50K  \n",
              "4              <=50K  \n",
              "5              <=50K  \n",
              "6               >50K  \n",
              "7               >50K  \n",
              "8               >50K  \n",
              "9               >50K  "
            ],
            "text/html": [
              "\n",
              "  <div id=\"df-9d65796e-e2cf-4741-b080-b79939f487c1\">\n",
              "    <div class=\"colab-df-container\">\n",
              "      <div>\n",
              "<style scoped>\n",
              "    .dataframe tbody tr th:only-of-type {\n",
              "        vertical-align: middle;\n",
              "    }\n",
              "\n",
              "    .dataframe tbody tr th {\n",
              "        vertical-align: top;\n",
              "    }\n",
              "\n",
              "    .dataframe thead th {\n",
              "        text-align: right;\n",
              "    }\n",
              "</style>\n",
              "<table border=\"1\" class=\"dataframe\">\n",
              "  <thead>\n",
              "    <tr style=\"text-align: right;\">\n",
              "      <th></th>\n",
              "      <th>age</th>\n",
              "      <th>workclass</th>\n",
              "      <th>fnlwgt</th>\n",
              "      <th>education</th>\n",
              "      <th>education_num</th>\n",
              "      <th>marital_status</th>\n",
              "      <th>occupation</th>\n",
              "      <th>relationship</th>\n",
              "      <th>race</th>\n",
              "      <th>sex</th>\n",
              "      <th>capital_gain</th>\n",
              "      <th>capital_loss</th>\n",
              "      <th>hours_per_week</th>\n",
              "      <th>native_country</th>\n",
              "      <th>gross_income_group</th>\n",
              "    </tr>\n",
              "  </thead>\n",
              "  <tbody>\n",
              "    <tr>\n",
              "      <th>0</th>\n",
              "      <td>50</td>\n",
              "      <td>Self-emp-not-inc</td>\n",
              "      <td>83311</td>\n",
              "      <td>Bachelors</td>\n",
              "      <td>13</td>\n",
              "      <td>Married-civ-spouse</td>\n",
              "      <td>Exec-managerial</td>\n",
              "      <td>Husband</td>\n",
              "      <td>White</td>\n",
              "      <td>Male</td>\n",
              "      <td>0</td>\n",
              "      <td>0</td>\n",
              "      <td>13</td>\n",
              "      <td>United-States</td>\n",
              "      <td>&lt;=50K</td>\n",
              "    </tr>\n",
              "    <tr>\n",
              "      <th>1</th>\n",
              "      <td>38</td>\n",
              "      <td>Private</td>\n",
              "      <td>215646</td>\n",
              "      <td>HS-grad</td>\n",
              "      <td>9</td>\n",
              "      <td>Divorced</td>\n",
              "      <td>Handlers-cleaners</td>\n",
              "      <td>Not-in-family</td>\n",
              "      <td>White</td>\n",
              "      <td>Male</td>\n",
              "      <td>0</td>\n",
              "      <td>0</td>\n",
              "      <td>40</td>\n",
              "      <td>United-States</td>\n",
              "      <td>&lt;=50K</td>\n",
              "    </tr>\n",
              "    <tr>\n",
              "      <th>2</th>\n",
              "      <td>53</td>\n",
              "      <td>Private</td>\n",
              "      <td>234721</td>\n",
              "      <td>11th</td>\n",
              "      <td>7</td>\n",
              "      <td>Married-civ-spouse</td>\n",
              "      <td>Handlers-cleaners</td>\n",
              "      <td>Husband</td>\n",
              "      <td>Black</td>\n",
              "      <td>Male</td>\n",
              "      <td>0</td>\n",
              "      <td>0</td>\n",
              "      <td>40</td>\n",
              "      <td>United-States</td>\n",
              "      <td>&lt;=50K</td>\n",
              "    </tr>\n",
              "    <tr>\n",
              "      <th>3</th>\n",
              "      <td>28</td>\n",
              "      <td>Private</td>\n",
              "      <td>338409</td>\n",
              "      <td>Bachelors</td>\n",
              "      <td>13</td>\n",
              "      <td>Married-civ-spouse</td>\n",
              "      <td>Prof-specialty</td>\n",
              "      <td>Wife</td>\n",
              "      <td>Black</td>\n",
              "      <td>Female</td>\n",
              "      <td>0</td>\n",
              "      <td>0</td>\n",
              "      <td>40</td>\n",
              "      <td>Cuba</td>\n",
              "      <td>&lt;=50K</td>\n",
              "    </tr>\n",
              "    <tr>\n",
              "      <th>4</th>\n",
              "      <td>37</td>\n",
              "      <td>Private</td>\n",
              "      <td>284582</td>\n",
              "      <td>Masters</td>\n",
              "      <td>14</td>\n",
              "      <td>Married-civ-spouse</td>\n",
              "      <td>Exec-managerial</td>\n",
              "      <td>Wife</td>\n",
              "      <td>White</td>\n",
              "      <td>Female</td>\n",
              "      <td>0</td>\n",
              "      <td>0</td>\n",
              "      <td>40</td>\n",
              "      <td>United-States</td>\n",
              "      <td>&lt;=50K</td>\n",
              "    </tr>\n",
              "    <tr>\n",
              "      <th>5</th>\n",
              "      <td>49</td>\n",
              "      <td>Private</td>\n",
              "      <td>160187</td>\n",
              "      <td>9th</td>\n",
              "      <td>5</td>\n",
              "      <td>Married-spouse-absent</td>\n",
              "      <td>Other-service</td>\n",
              "      <td>Not-in-family</td>\n",
              "      <td>Black</td>\n",
              "      <td>Female</td>\n",
              "      <td>0</td>\n",
              "      <td>0</td>\n",
              "      <td>16</td>\n",
              "      <td>Jamaica</td>\n",
              "      <td>&lt;=50K</td>\n",
              "    </tr>\n",
              "    <tr>\n",
              "      <th>6</th>\n",
              "      <td>52</td>\n",
              "      <td>Self-emp-not-inc</td>\n",
              "      <td>209642</td>\n",
              "      <td>HS-grad</td>\n",
              "      <td>9</td>\n",
              "      <td>Married-civ-spouse</td>\n",
              "      <td>Exec-managerial</td>\n",
              "      <td>Husband</td>\n",
              "      <td>White</td>\n",
              "      <td>Male</td>\n",
              "      <td>0</td>\n",
              "      <td>0</td>\n",
              "      <td>45</td>\n",
              "      <td>United-States</td>\n",
              "      <td>&gt;50K</td>\n",
              "    </tr>\n",
              "    <tr>\n",
              "      <th>7</th>\n",
              "      <td>31</td>\n",
              "      <td>Private</td>\n",
              "      <td>45781</td>\n",
              "      <td>Masters</td>\n",
              "      <td>14</td>\n",
              "      <td>Never-married</td>\n",
              "      <td>Prof-specialty</td>\n",
              "      <td>Not-in-family</td>\n",
              "      <td>White</td>\n",
              "      <td>Female</td>\n",
              "      <td>14084</td>\n",
              "      <td>0</td>\n",
              "      <td>50</td>\n",
              "      <td>United-States</td>\n",
              "      <td>&gt;50K</td>\n",
              "    </tr>\n",
              "    <tr>\n",
              "      <th>8</th>\n",
              "      <td>42</td>\n",
              "      <td>Private</td>\n",
              "      <td>159449</td>\n",
              "      <td>Bachelors</td>\n",
              "      <td>13</td>\n",
              "      <td>Married-civ-spouse</td>\n",
              "      <td>Exec-managerial</td>\n",
              "      <td>Husband</td>\n",
              "      <td>White</td>\n",
              "      <td>Male</td>\n",
              "      <td>5178</td>\n",
              "      <td>0</td>\n",
              "      <td>40</td>\n",
              "      <td>United-States</td>\n",
              "      <td>&gt;50K</td>\n",
              "    </tr>\n",
              "    <tr>\n",
              "      <th>9</th>\n",
              "      <td>37</td>\n",
              "      <td>Private</td>\n",
              "      <td>280464</td>\n",
              "      <td>Some-college</td>\n",
              "      <td>10</td>\n",
              "      <td>Married-civ-spouse</td>\n",
              "      <td>Exec-managerial</td>\n",
              "      <td>Husband</td>\n",
              "      <td>Black</td>\n",
              "      <td>Male</td>\n",
              "      <td>0</td>\n",
              "      <td>0</td>\n",
              "      <td>80</td>\n",
              "      <td>United-States</td>\n",
              "      <td>&gt;50K</td>\n",
              "    </tr>\n",
              "  </tbody>\n",
              "</table>\n",
              "</div>\n",
              "      <button class=\"colab-df-convert\" onclick=\"convertToInteractive('df-9d65796e-e2cf-4741-b080-b79939f487c1')\"\n",
              "              title=\"Convert this dataframe to an interactive table.\"\n",
              "              style=\"display:none;\">\n",
              "        \n",
              "  <svg xmlns=\"http://www.w3.org/2000/svg\" height=\"24px\"viewBox=\"0 0 24 24\"\n",
              "       width=\"24px\">\n",
              "    <path d=\"M0 0h24v24H0V0z\" fill=\"none\"/>\n",
              "    <path d=\"M18.56 5.44l.94 2.06.94-2.06 2.06-.94-2.06-.94-.94-2.06-.94 2.06-2.06.94zm-11 1L8.5 8.5l.94-2.06 2.06-.94-2.06-.94L8.5 2.5l-.94 2.06-2.06.94zm10 10l.94 2.06.94-2.06 2.06-.94-2.06-.94-.94-2.06-.94 2.06-2.06.94z\"/><path d=\"M17.41 7.96l-1.37-1.37c-.4-.4-.92-.59-1.43-.59-.52 0-1.04.2-1.43.59L10.3 9.45l-7.72 7.72c-.78.78-.78 2.05 0 2.83L4 21.41c.39.39.9.59 1.41.59.51 0 1.02-.2 1.41-.59l7.78-7.78 2.81-2.81c.8-.78.8-2.07 0-2.86zM5.41 20L4 18.59l7.72-7.72 1.47 1.35L5.41 20z\"/>\n",
              "  </svg>\n",
              "      </button>\n",
              "      \n",
              "  <style>\n",
              "    .colab-df-container {\n",
              "      display:flex;\n",
              "      flex-wrap:wrap;\n",
              "      gap: 12px;\n",
              "    }\n",
              "\n",
              "    .colab-df-convert {\n",
              "      background-color: #E8F0FE;\n",
              "      border: none;\n",
              "      border-radius: 50%;\n",
              "      cursor: pointer;\n",
              "      display: none;\n",
              "      fill: #1967D2;\n",
              "      height: 32px;\n",
              "      padding: 0 0 0 0;\n",
              "      width: 32px;\n",
              "    }\n",
              "\n",
              "    .colab-df-convert:hover {\n",
              "      background-color: #E2EBFA;\n",
              "      box-shadow: 0px 1px 2px rgba(60, 64, 67, 0.3), 0px 1px 3px 1px rgba(60, 64, 67, 0.15);\n",
              "      fill: #174EA6;\n",
              "    }\n",
              "\n",
              "    [theme=dark] .colab-df-convert {\n",
              "      background-color: #3B4455;\n",
              "      fill: #D2E3FC;\n",
              "    }\n",
              "\n",
              "    [theme=dark] .colab-df-convert:hover {\n",
              "      background-color: #434B5C;\n",
              "      box-shadow: 0px 1px 3px 1px rgba(0, 0, 0, 0.15);\n",
              "      filter: drop-shadow(0px 1px 2px rgba(0, 0, 0, 0.3));\n",
              "      fill: #FFFFFF;\n",
              "    }\n",
              "  </style>\n",
              "\n",
              "      <script>\n",
              "        const buttonEl =\n",
              "          document.querySelector('#df-9d65796e-e2cf-4741-b080-b79939f487c1 button.colab-df-convert');\n",
              "        buttonEl.style.display =\n",
              "          google.colab.kernel.accessAllowed ? 'block' : 'none';\n",
              "\n",
              "        async function convertToInteractive(key) {\n",
              "          const element = document.querySelector('#df-9d65796e-e2cf-4741-b080-b79939f487c1');\n",
              "          const dataTable =\n",
              "            await google.colab.kernel.invokeFunction('convertToInteractive',\n",
              "                                                     [key], {});\n",
              "          if (!dataTable) return;\n",
              "\n",
              "          const docLinkHtml = 'Like what you see? Visit the ' +\n",
              "            '<a target=\"_blank\" href=https://colab.research.google.com/notebooks/data_table.ipynb>data table notebook</a>'\n",
              "            + ' to learn more about interactive tables.';\n",
              "          element.innerHTML = '';\n",
              "          dataTable['output_type'] = 'display_data';\n",
              "          await google.colab.output.renderOutput(dataTable, element);\n",
              "          const docLink = document.createElement('div');\n",
              "          docLink.innerHTML = docLinkHtml;\n",
              "          element.appendChild(docLink);\n",
              "        }\n",
              "      </script>\n",
              "    </div>\n",
              "  </div>\n",
              "  "
            ]
          },
          "metadata": {},
          "execution_count": 5
        }
      ]
    },
    {
      "cell_type": "code",
      "source": [
        "income_df.info()"
      ],
      "metadata": {
        "colab": {
          "base_uri": "https://localhost:8080/"
        },
        "id": "D-tf6L-6q2v2",
        "outputId": "9e134aa8-9907-436e-9009-39fa526253bd"
      },
      "execution_count": null,
      "outputs": [
        {
          "output_type": "stream",
          "name": "stdout",
          "text": [
            "<class 'pandas.core.frame.DataFrame'>\n",
            "RangeIndex: 32560 entries, 0 to 32559\n",
            "Data columns (total 15 columns):\n",
            " #   Column              Non-Null Count  Dtype \n",
            "---  ------              --------------  ----- \n",
            " 0   age                 32560 non-null  int64 \n",
            " 1   workclass           32560 non-null  object\n",
            " 2   fnlwgt              32560 non-null  int64 \n",
            " 3   education           32560 non-null  object\n",
            " 4   education_num       32560 non-null  int64 \n",
            " 5   marital_status      32560 non-null  object\n",
            " 6   occupation          32560 non-null  object\n",
            " 7   relationship        32560 non-null  object\n",
            " 8   race                32560 non-null  object\n",
            " 9   sex                 32560 non-null  object\n",
            " 10  capital_gain        32560 non-null  int64 \n",
            " 11  capital_loss        32560 non-null  int64 \n",
            " 12  hours_per_week      32560 non-null  int64 \n",
            " 13  native_country      32560 non-null  object\n",
            " 14  gross_income_group  32560 non-null  object\n",
            "dtypes: int64(6), object(9)\n",
            "memory usage: 3.7+ MB\n"
          ]
        }
      ]
    },
    {
      "cell_type": "markdown",
      "source": [
        "## Missing Data\n",
        "- Observe the next code section which displays the NaN data for each column.\n",
        "- Notice how there are no values explicitly labelled as Nan or Null"
      ],
      "metadata": {
        "id": "fmm89R5tt0Ua"
      }
    },
    {
      "cell_type": "code",
      "source": [
        "income_df.isna().sum()"
      ],
      "metadata": {
        "colab": {
          "base_uri": "https://localhost:8080/"
        },
        "id": "tqrCSxWOwRmh",
        "outputId": "69c50079-4fb6-4e03-a869-affc00aa2fbc"
      },
      "execution_count": null,
      "outputs": [
        {
          "output_type": "execute_result",
          "data": {
            "text/plain": [
              "age                   0\n",
              "workclass             0\n",
              "fnlwgt                0\n",
              "education             0\n",
              "education_num         0\n",
              "marital_status        0\n",
              "occupation            0\n",
              "relationship          0\n",
              "race                  0\n",
              "sex                   0\n",
              "capital_gain          0\n",
              "capital_loss          0\n",
              "hours_per_week        0\n",
              "native_country        0\n",
              "gross_income_group    0\n",
              "dtype: int64"
            ]
          },
          "metadata": {},
          "execution_count": 7
        }
      ]
    },
    {
      "cell_type": "markdown",
      "source": [
        "- However if we manually look through the dataset, we observe '?' values, which we take to be missing.\n",
        "- Notice how : workclass, occupation, and native_country have 1836, 1843 and 583 null values respectively"
      ],
      "metadata": {
        "id": "a9eq3N4wwIra"
      }
    },
    {
      "cell_type": "code",
      "source": [
        "# Find the number of ? in each column\n",
        "count_question_marks = lambda col: col.astype(str).str.count('\\?').sum()\n",
        "income_df.apply(count_question_marks)"
      ],
      "metadata": {
        "colab": {
          "base_uri": "https://localhost:8080/"
        },
        "id": "psghGedht0Bj",
        "outputId": "00326210-3e8d-420a-f708-772ea3fee0cc"
      },
      "execution_count": null,
      "outputs": [
        {
          "output_type": "execute_result",
          "data": {
            "text/plain": [
              "age                      0\n",
              "workclass             1836\n",
              "fnlwgt                   0\n",
              "education                0\n",
              "education_num            0\n",
              "marital_status           0\n",
              "occupation            1843\n",
              "relationship             0\n",
              "race                     0\n",
              "sex                      0\n",
              "capital_gain             0\n",
              "capital_loss             0\n",
              "hours_per_week           0\n",
              "native_country         583\n",
              "gross_income_group       0\n",
              "dtype: int64"
            ]
          },
          "metadata": {},
          "execution_count": 8
        }
      ]
    },
    {
      "cell_type": "code",
      "source": [
        "income_df = income_df.replace(' ?', np.NaN)\n",
        "income_df.isna().sum()"
      ],
      "metadata": {
        "colab": {
          "base_uri": "https://localhost:8080/"
        },
        "id": "3tUoDlLZw_gT",
        "outputId": "60781a80-79cc-41a6-b42c-4ea64ae9f421"
      },
      "execution_count": null,
      "outputs": [
        {
          "output_type": "execute_result",
          "data": {
            "text/plain": [
              "age                      0\n",
              "workclass             1836\n",
              "fnlwgt                   0\n",
              "education                0\n",
              "education_num            0\n",
              "marital_status           0\n",
              "occupation            1843\n",
              "relationship             0\n",
              "race                     0\n",
              "sex                      0\n",
              "capital_gain             0\n",
              "capital_loss             0\n",
              "hours_per_week           0\n",
              "native_country         583\n",
              "gross_income_group       0\n",
              "dtype: int64"
            ]
          },
          "metadata": {},
          "execution_count": 9
        }
      ]
    },
    {
      "cell_type": "markdown",
      "source": [
        "##Plotting Distributions \n",
        "\n",
        "- From the following graphs, we see there is a high concentration of \n"
      ],
      "metadata": {
        "id": "zuipp27-_VSB"
      }
    },
    {
      "cell_type": "code",
      "source": [
        "capital = income_df[['capital_gain', 'capital_loss']]\n",
        "capital.hist(bins=30, grid=False)\n",
        "plt.subplots_adjust(hspace=0.7, wspace=0.4)"
      ],
      "metadata": {
        "colab": {
          "base_uri": "https://localhost:8080/",
          "height": 281
        },
        "id": "z9Fg3Aui_7rx",
        "outputId": "5953e14e-313c-4d8b-be5c-ef2ceb6df7fe"
      },
      "execution_count": null,
      "outputs": [
        {
          "output_type": "display_data",
          "data": {
            "text/plain": [
              "<Figure size 432x288 with 2 Axes>"
            ],
            "image/png": "[encoded data removed]"
          },
          "metadata": {
            "needs_background": "light"
          }
        }
      ]
    },
    {
      "cell_type": "markdown",
      "source": [
        "- Note that since a majority of the data is concentrated at 0, we can create 2 categories to differential observations with capital gain/loss.\n",
        "- We do so by transforming the numerical variable to a categorical variable with 2 bins\n",
        "- One which specifies positive gain/loss and one which specifies 0 gain/loss"
      ],
      "metadata": {
        "id": "kItKn_JFEiom"
      }
    },
    {
      "cell_type": "code",
      "source": [
        "income_df['capital_gain'] = np.sign(income_df['capital_gain']).map({0: 'No', 1: 'Yes'})\n",
        "income_df['capital_loss'] = np.sign(income_df['capital_loss']).map({0: 'No', 1: 'Yes'})\n",
        "income_df.groupby(['capital_gain', 'capital_loss']).size()\n",
        "print(income_df['capital_loss'].value_counts())\n",
        "print(income_df['capital_gain'].value_counts())"
      ],
      "metadata": {
        "colab": {
          "base_uri": "https://localhost:8080/"
        },
        "id": "iMkIqes-E4YZ",
        "outputId": "8843c5f4-c8e7-4933-ea24-e1c5319ed95e"
      },
      "execution_count": null,
      "outputs": [
        {
          "output_type": "stream",
          "name": "stdout",
          "text": [
            "No     31041\n",
            "Yes     1519\n",
            "Name: capital_loss, dtype: int64\n",
            "No     29849\n",
            "Yes     2711\n",
            "Name: capital_gain, dtype: int64\n"
          ]
        }
      ]
    },
    {
      "cell_type": "markdown",
      "source": [
        "- Here we will plot the distribution of the transformed columns capital gain and capital loss"
      ],
      "metadata": {
        "id": "ovN-cFpLHsSH"
      }
    },
    {
      "cell_type": "code",
      "source": [
        "capital = income_df[['capital_gain', 'capital_loss']]\n",
        "capital = capital.apply(pd.Series.value_counts)\n",
        "capital.plot.bar()"
      ],
      "metadata": {
        "colab": {
          "base_uri": "https://localhost:8080/",
          "height": 288
        },
        "id": "WX_aALtqFwET",
        "outputId": "1681e47d-9367-48d4-dd8e-512c67fdd55f"
      },
      "execution_count": null,
      "outputs": [
        {
          "output_type": "execute_result",
          "data": {
            "text/plain": [
              "<matplotlib.axes._subplots.AxesSubplot at 0x7f87b91dffa0>"
            ]
          },
          "metadata": {},
          "execution_count": 12
        },
        {
          "output_type": "display_data",
          "data": {
            "text/plain": [
              "<Figure size 432x288 with 1 Axes>"
            ],
            "image/png": "[encoded data removed]"
          },
          "metadata": {
            "needs_background": "light"
          }
        }
      ]
    },
    {
      "cell_type": "markdown",
      "source": [
        "## Distribution of fnlwgt\n",
        "\n",
        "- From the following plot, the histogram seems to be right skewed. This is indicative that most samples have a population totals less than 200000\n",
        "- The distribution between men and women appears to be similar"
      ],
      "metadata": {
        "id": "hZzAdfnpOv5q"
      }
    },
    {
      "cell_type": "code",
      "source": [
        "male = income_df[income_df['sex'] == ' Male']\n",
        "female = income_df[income_df['sex'] == ' Female']\n",
        "\n",
        "plt.hist(income_df['fnlwgt'], bins = 75, alpha=0.5, label = \"total\")\n",
        "plt.hist(male['fnlwgt'], bins = 75, alpha=0.5, label = \"male\")\n",
        "plt.hist(female['fnlwgt'], bins = 75, alpha=0.5, label = \"female\")\n",
        "\n",
        "plt.legend(loc='upper right')\n",
        "plt.title(\"Distribution of fnlwgt\")\n",
        "plt.xlabel(\"Weighting\")\n",
        "plt.ylabel(\"Count of Individuals\")\n",
        "plt.show()"
      ],
      "metadata": {
        "colab": {
          "base_uri": "https://localhost:8080/",
          "height": 295
        },
        "id": "877ESJjSPB8-",
        "outputId": "d9ff2cc8-7749-4ad0-b61e-782634755cce"
      },
      "execution_count": null,
      "outputs": [
        {
          "output_type": "display_data",
          "data": {
            "text/plain": [
              "<Figure size 432x288 with 1 Axes>"
            ],
            "image/png": "[encoded data removed]"
          },
          "metadata": {
            "needs_background": "light"
          }
        }
      ]
    },
    {
      "cell_type": "markdown",
      "source": [
        "- With such a large dataset, there are bound to be outliers\n",
        "- However, we shouldn't easily discard said outliers in cases future analyses depends on population size"
      ],
      "metadata": {
        "id": "VpiiVapQPX0F"
      }
    },
    {
      "cell_type": "code",
      "source": [
        "Q1 = income_df['fnlwgt'].quantile(0.25)\n",
        "Q3 = income_df['fnlwgt'].quantile(0.75)\n",
        "IQR = Q3 - Q1\n",
        "\n",
        "threshold = 1.5\n",
        "outliers = income_df[(income_df['fnlwgt'] < (Q1 - threshold * IQR)) | (income_df['fnlwgt'] > (Q3 + threshold * IQR))]\n"
      ],
      "metadata": {
        "id": "Wog5QdN6PdJq"
      },
      "execution_count": null,
      "outputs": []
    },
    {
      "cell_type": "code",
      "source": [
        "sns.boxplot(x = 'fnlwgt', data = income_df)\n",
        "plt.xlabel('fnlwgt')\n",
        "plt.title('Boxplot of fnlwgt')\n",
        "plt.show()"
      ],
      "metadata": {
        "colab": {
          "base_uri": "https://localhost:8080/",
          "height": 295
        },
        "id": "4u_GwRTSYA_a",
        "outputId": "9758bc0b-9d8a-462a-8997-ffe35bffbe92"
      },
      "execution_count": null,
      "outputs": [
        {
          "output_type": "display_data",
          "data": {
            "text/plain": [
              "<Figure size 432x288 with 1 Axes>"
            ],
            "image/png": "[encoded data removed]"
          },
          "metadata": {
            "needs_background": "light"
          }
        }
      ]
    },
    {
      "cell_type": "markdown",
      "source": [
        "# Correlation"
      ],
      "metadata": {
        "id": "rGaKZi0mYkQn"
      }
    },
    {
      "cell_type": "markdown",
      "source": [
        "## Checking Correlation\n",
        "- Observe the following pairwise plots"
      ],
      "metadata": {
        "id": "jIezp7IIYpap"
      }
    },
    {
      "cell_type": "code",
      "source": [
        "correlation = income_df[['age', 'education_num', 'hours_per_week']]\n",
        "correlation = correlation.sample(n=500)\n",
        "sns.pairplot(correlation)\n",
        "plt.show()"
      ],
      "metadata": {
        "colab": {
          "base_uri": "https://localhost:8080/",
          "height": 550
        },
        "id": "ZohF2zWSYvkc",
        "outputId": "57ba9291-3f7a-463c-b657-90afbb5b31ec"
      },
      "execution_count": null,
      "outputs": [
        {
          "output_type": "display_data",
          "data": {
            "text/plain": [
              "<Figure size 540x540 with 12 Axes>"
            ],
            "image/png": "[encoded data removed]"
          },
          "metadata": {
            "needs_background": "light"
          }
        }
      ]
    },
    {
      "cell_type": "code",
      "source": [
        "correlation_matrix = correlation.corr()\n",
        "correlation_matrix"
      ],
      "metadata": {
        "colab": {
          "base_uri": "https://localhost:8080/",
          "height": 143
        },
        "id": "M2QtnAWr37KB",
        "outputId": "2d0992f8-ecd6-4ac9-b241-f19c712e668e"
      },
      "execution_count": null,
      "outputs": [
        {
          "output_type": "execute_result",
          "data": {
            "text/plain": [
              "                     age  education_num  hours_per_week\n",
              "age             1.000000       0.024607        0.017551\n",
              "education_num   0.024607       1.000000        0.100583\n",
              "hours_per_week  0.017551       0.100583        1.000000"
            ],
            "text/html": [
              "\n",
              "  <div id=\"df-2866a728-b045-4639-891c-4c85815403c3\">\n",
              "    <div class=\"colab-df-container\">\n",
              "      <div>\n",
              "<style scoped>\n",
              "    .dataframe tbody tr th:only-of-type {\n",
              "        vertical-align: middle;\n",
              "    }\n",
              "\n",
              "    .dataframe tbody tr th {\n",
              "        vertical-align: top;\n",
              "    }\n",
              "\n",
              "    .dataframe thead th {\n",
              "        text-align: right;\n",
              "    }\n",
              "</style>\n",
              "<table border=\"1\" class=\"dataframe\">\n",
              "  <thead>\n",
              "    <tr style=\"text-align: right;\">\n",
              "      <th></th>\n",
              "      <th>age</th>\n",
              "      <th>education_num</th>\n",
              "      <th>hours_per_week</th>\n",
              "    </tr>\n",
              "  </thead>\n",
              "  <tbody>\n",
              "    <tr>\n",
              "      <th>age</th>\n",
              "      <td>1.000000</td>\n",
              "      <td>0.024607</td>\n",
              "      <td>0.017551</td>\n",
              "    </tr>\n",
              "    <tr>\n",
              "      <th>education_num</th>\n",
              "      <td>0.024607</td>\n",
              "      <td>1.000000</td>\n",
              "      <td>0.100583</td>\n",
              "    </tr>\n",
              "    <tr>\n",
              "      <th>hours_per_week</th>\n",
              "      <td>0.017551</td>\n",
              "      <td>0.100583</td>\n",
              "      <td>1.000000</td>\n",
              "    </tr>\n",
              "  </tbody>\n",
              "</table>\n",
              "</div>\n",
              "      <button class=\"colab-df-convert\" onclick=\"convertToInteractive('df-2866a728-b045-4639-891c-4c85815403c3')\"\n",
              "              title=\"Convert this dataframe to an interactive table.\"\n",
              "              style=\"display:none;\">\n",
              "        \n",
              "  <svg xmlns=\"http://www.w3.org/2000/svg\" height=\"24px\"viewBox=\"0 0 24 24\"\n",
              "       width=\"24px\">\n",
              "    <path d=\"M0 0h24v24H0V0z\" fill=\"none\"/>\n",
              "    <path d=\"M18.56 5.44l.94 2.06.94-2.06 2.06-.94-2.06-.94-.94-2.06-.94 2.06-2.06.94zm-11 1L8.5 8.5l.94-2.06 2.06-.94-2.06-.94L8.5 2.5l-.94 2.06-2.06.94zm10 10l.94 2.06.94-2.06 2.06-.94-2.06-.94-.94-2.06-.94 2.06-2.06.94z\"/><path d=\"M17.41 7.96l-1.37-1.37c-.4-.4-.92-.59-1.43-.59-.52 0-1.04.2-1.43.59L10.3 9.45l-7.72 7.72c-.78.78-.78 2.05 0 2.83L4 21.41c.39.39.9.59 1.41.59.51 0 1.02-.2 1.41-.59l7.78-7.78 2.81-2.81c.8-.78.8-2.07 0-2.86zM5.41 20L4 18.59l7.72-7.72 1.47 1.35L5.41 20z\"/>\n",
              "  </svg>\n",
              "      </button>\n",
              "      \n",
              "  <style>\n",
              "    .colab-df-container {\n",
              "      display:flex;\n",
              "      flex-wrap:wrap;\n",
              "      gap: 12px;\n",
              "    }\n",
              "\n",
              "    .colab-df-convert {\n",
              "      background-color: #E8F0FE;\n",
              "      border: none;\n",
              "      border-radius: 50%;\n",
              "      cursor: pointer;\n",
              "      display: none;\n",
              "      fill: #1967D2;\n",
              "      height: 32px;\n",
              "      padding: 0 0 0 0;\n",
              "      width: 32px;\n",
              "    }\n",
              "\n",
              "    .colab-df-convert:hover {\n",
              "      background-color: #E2EBFA;\n",
              "      box-shadow: 0px 1px 2px rgba(60, 64, 67, 0.3), 0px 1px 3px 1px rgba(60, 64, 67, 0.15);\n",
              "      fill: #174EA6;\n",
              "    }\n",
              "\n",
              "    [theme=dark] .colab-df-convert {\n",
              "      background-color: #3B4455;\n",
              "      fill: #D2E3FC;\n",
              "    }\n",
              "\n",
              "    [theme=dark] .colab-df-convert:hover {\n",
              "      background-color: #434B5C;\n",
              "      box-shadow: 0px 1px 3px 1px rgba(0, 0, 0, 0.15);\n",
              "      filter: drop-shadow(0px 1px 2px rgba(0, 0, 0, 0.3));\n",
              "      fill: #FFFFFF;\n",
              "    }\n",
              "  </style>\n",
              "\n",
              "      <script>\n",
              "        const buttonEl =\n",
              "          document.querySelector('#df-2866a728-b045-4639-891c-4c85815403c3 button.colab-df-convert');\n",
              "        buttonEl.style.display =\n",
              "          google.colab.kernel.accessAllowed ? 'block' : 'none';\n",
              "\n",
              "        async function convertToInteractive(key) {\n",
              "          const element = document.querySelector('#df-2866a728-b045-4639-891c-4c85815403c3');\n",
              "          const dataTable =\n",
              "            await google.colab.kernel.invokeFunction('convertToInteractive',\n",
              "                                                     [key], {});\n",
              "          if (!dataTable) return;\n",
              "\n",
              "          const docLinkHtml = 'Like what you see? Visit the ' +\n",
              "            '<a target=\"_blank\" href=https://colab.research.google.com/notebooks/data_table.ipynb>data table notebook</a>'\n",
              "            + ' to learn more about interactive tables.';\n",
              "          element.innerHTML = '';\n",
              "          dataTable['output_type'] = 'display_data';\n",
              "          await google.colab.output.renderOutput(dataTable, element);\n",
              "          const docLink = document.createElement('div');\n",
              "          docLink.innerHTML = docLinkHtml;\n",
              "          element.appendChild(docLink);\n",
              "        }\n",
              "      </script>\n",
              "    </div>\n",
              "  </div>\n",
              "  "
            ]
          },
          "metadata": {},
          "execution_count": 17
        }
      ]
    },
    {
      "cell_type": "markdown",
      "source": [
        "- From the graphs, there seem to be little correlation between the variables as they appear to be randomly distributed\n",
        "- This observation is confirmed by the correlation matrix where no two variables have a |correlation| > 0.2\n",
        "  "
      ],
      "metadata": {
        "id": "Hu5XYUxM36MB"
      }
    },
    {
      "cell_type": "markdown",
      "source": [
        "## Statistical Testing\n",
        "\n",
        "From the above correlation matrix note that the |correlation| between education num and hours per week > 0.1 so we will perform a hypothesis test\n",
        "\n",
        "- Set $H_0$ to be the null hypothesis where there is no relationship between education num and hours per week.\n",
        "\n",
        "- Set $H_1$ to be the alternate hypothesis\n",
        "\n",
        "It suffices to show a small p-value $\\rightarrow$ evdience against the null\n",
        "- Observe from the following code, the p-value is approximately 0 which implies there is strong correlation between age and hours per week\n",
        "- The $\\beta_1$ value represents the average change in education for every change in age and is calculated to be 0.6898\n",
        "- This intuitively makes sense since we would expect people with more education to be working longer.\n",
        "\n"
      ],
      "metadata": {
        "id": "peZThFI66GyY"
      }
    },
    {
      "cell_type": "code",
      "source": [
        "x = correlation['education_num']\n",
        "y = correlation['hours_per_week']\n",
        "\n",
        "x = sm.add_constant(x)\n",
        "\n",
        "model = sm.OLS(y, x).fit()\n",
        "print(model.summary())"
      ],
      "metadata": {
        "colab": {
          "base_uri": "https://localhost:8080/"
        },
        "id": "wiKAeHOZ7JMb",
        "outputId": "b3c233f0-c32c-420c-ff75-f1c93c630f0c"
      },
      "execution_count": null,
      "outputs": [
        {
          "output_type": "stream",
          "name": "stdout",
          "text": [
            "                            OLS Regression Results                            \n",
            "==============================================================================\n",
            "Dep. Variable:         hours_per_week   R-squared:                       0.010\n",
            "Model:                            OLS   Adj. R-squared:                  0.008\n",
            "Method:                 Least Squares   F-statistic:                     5.090\n",
            "Date:                Tue, 14 Feb 2023   Prob (F-statistic):             0.0245\n",
            "Time:                        07:19:09   Log-Likelihood:                -1936.0\n",
            "No. Observations:                 500   AIC:                             3876.\n",
            "Df Residuals:                     498   BIC:                             3884.\n",
            "Df Model:                           1                                         \n",
            "Covariance Type:            nonrobust                                         \n",
            "=================================================================================\n",
            "                    coef    std err          t      P>|t|      [0.025      0.975]\n",
            "---------------------------------------------------------------------------------\n",
            "const            36.4695      1.898     19.211      0.000      32.740      40.199\n",
            "education_num     0.4138      0.183      2.256      0.025       0.053       0.774\n",
            "==============================================================================\n",
            "Omnibus:                       63.674   Durbin-Watson:                   2.108\n",
            "Prob(Omnibus):                  0.000   Jarque-Bera (JB):              375.208\n",
            "Skew:                           0.337   Prob(JB):                     3.35e-82\n",
            "Kurtosis:                       7.190   Cond. No.                         38.0\n",
            "==============================================================================\n",
            "\n",
            "Notes:\n",
            "[1] Standard Errors assume that the covariance matrix of the errors is correctly specified.\n"
          ]
        },
        {
          "output_type": "stream",
          "name": "stderr",
          "text": [
            "/usr/local/lib/python3.8/dist-packages/statsmodels/tsa/tsatools.py:142: FutureWarning: In a future version of pandas all arguments of concat except for the argument 'objs' will be keyword-only\n",
            "  x = pd.concat(x[::order], 1)\n"
          ]
        }
      ]
    },
    {
      "cell_type": "markdown",
      "source": [
        "## Correlation Accounting For Gender\n",
        "Observe the two following hypothesis tests performed for finding correlation between age and number of education hours dependent on gender\n",
        "\n",
        "- For females (-0.012): There is a negative correlation between age and education num\n",
        "\n",
        "- For males (0.060): There is a positive correlation between age and education num\n",
        "- However if we take |corr_male| and compare that with |corr_female| the difference is very small with |corr_male| is slightly larger indicating a stronger correlation"
      ],
      "metadata": {
        "id": "JLWdtuGg-Er4"
      }
    },
    {
      "cell_type": "code",
      "source": [
        "corr_male = male['education_num'].corr(male['age'])\n",
        "print(corr_male)\n",
        "\n",
        "corr_female = female['education_num'].corr(female['age'])\n",
        "print(corr_female)\n"
      ],
      "metadata": {
        "colab": {
          "base_uri": "https://localhost:8080/"
        },
        "id": "DzRdrEYj-jQ_",
        "outputId": "e680b519-cc9c-4da3-dcd3-e42baafe46c7"
      },
      "execution_count": null,
      "outputs": [
        {
          "output_type": "stream",
          "name": "stdout",
          "text": [
            "0.06048967335170156\n",
            "-0.017899243935447715\n"
          ]
        }
      ]
    },
    {
      "cell_type": "markdown",
      "source": [
        "## Covariance Matrix\n",
        "\n",
        "From the covariance matrix between hours per week and education num, we observe:\n",
        "- Var(hours_per_week) = 152.5\n",
        "- Var(education_num) = 6.6\n",
        "- Covariance(hours_per_week, education_num) = 4.7\n",
        "\n",
        "This makes sense since education_num uses years as units and hours_per_week uses hours. There is a large variance since there are likely individuals who work 0 hours and others than work the whole week.\n",
        "\n",
        "Note positive covariance is individuative a positive relationship between the two variables."
      ],
      "metadata": {
        "id": "M4cuql5OErCe"
      }
    },
    {
      "cell_type": "code",
      "source": [
        "compare = income_df[['education_num', 'hours_per_week']]\n",
        "compare.cov()"
      ],
      "metadata": {
        "colab": {
          "base_uri": "https://localhost:8080/",
          "height": 112
        },
        "id": "PFiT4pi3E7s4",
        "outputId": "0c6c1de0-3461-47f5-adf4-a682d49aed40"
      },
      "execution_count": null,
      "outputs": [
        {
          "output_type": "execute_result",
          "data": {
            "text/plain": [
              "                education_num  hours_per_week\n",
              "education_num        6.618831        4.705522\n",
              "hours_per_week       4.705522      152.463672"
            ],
            "text/html": [
              "\n",
              "  <div id=\"df-9da546d9-f96d-44ce-aca0-a9c279b5242c\">\n",
              "    <div class=\"colab-df-container\">\n",
              "      <div>\n",
              "<style scoped>\n",
              "    .dataframe tbody tr th:only-of-type {\n",
              "        vertical-align: middle;\n",
              "    }\n",
              "\n",
              "    .dataframe tbody tr th {\n",
              "        vertical-align: top;\n",
              "    }\n",
              "\n",
              "    .dataframe thead th {\n",
              "        text-align: right;\n",
              "    }\n",
              "</style>\n",
              "<table border=\"1\" class=\"dataframe\">\n",
              "  <thead>\n",
              "    <tr style=\"text-align: right;\">\n",
              "      <th></th>\n",
              "      <th>education_num</th>\n",
              "      <th>hours_per_week</th>\n",
              "    </tr>\n",
              "  </thead>\n",
              "  <tbody>\n",
              "    <tr>\n",
              "      <th>education_num</th>\n",
              "      <td>6.618831</td>\n",
              "      <td>4.705522</td>\n",
              "    </tr>\n",
              "    <tr>\n",
              "      <th>hours_per_week</th>\n",
              "      <td>4.705522</td>\n",
              "      <td>152.463672</td>\n",
              "    </tr>\n",
              "  </tbody>\n",
              "</table>\n",
              "</div>\n",
              "      <button class=\"colab-df-convert\" onclick=\"convertToInteractive('df-9da546d9-f96d-44ce-aca0-a9c279b5242c')\"\n",
              "              title=\"Convert this dataframe to an interactive table.\"\n",
              "              style=\"display:none;\">\n",
              "        \n",
              "  <svg xmlns=\"http://www.w3.org/2000/svg\" height=\"24px\"viewBox=\"0 0 24 24\"\n",
              "       width=\"24px\">\n",
              "    <path d=\"M0 0h24v24H0V0z\" fill=\"none\"/>\n",
              "    <path d=\"M18.56 5.44l.94 2.06.94-2.06 2.06-.94-2.06-.94-.94-2.06-.94 2.06-2.06.94zm-11 1L8.5 8.5l.94-2.06 2.06-.94-2.06-.94L8.5 2.5l-.94 2.06-2.06.94zm10 10l.94 2.06.94-2.06 2.06-.94-2.06-.94-.94-2.06-.94 2.06-2.06.94z\"/><path d=\"M17.41 7.96l-1.37-1.37c-.4-.4-.92-.59-1.43-.59-.52 0-1.04.2-1.43.59L10.3 9.45l-7.72 7.72c-.78.78-.78 2.05 0 2.83L4 21.41c.39.39.9.59 1.41.59.51 0 1.02-.2 1.41-.59l7.78-7.78 2.81-2.81c.8-.78.8-2.07 0-2.86zM5.41 20L4 18.59l7.72-7.72 1.47 1.35L5.41 20z\"/>\n",
              "  </svg>\n",
              "      </button>\n",
              "      \n",
              "  <style>\n",
              "    .colab-df-container {\n",
              "      display:flex;\n",
              "      flex-wrap:wrap;\n",
              "      gap: 12px;\n",
              "    }\n",
              "\n",
              "    .colab-df-convert {\n",
              "      background-color: #E8F0FE;\n",
              "      border: none;\n",
              "      border-radius: 50%;\n",
              "      cursor: pointer;\n",
              "      display: none;\n",
              "      fill: #1967D2;\n",
              "      height: 32px;\n",
              "      padding: 0 0 0 0;\n",
              "      width: 32px;\n",
              "    }\n",
              "\n",
              "    .colab-df-convert:hover {\n",
              "      background-color: #E2EBFA;\n",
              "      box-shadow: 0px 1px 2px rgba(60, 64, 67, 0.3), 0px 1px 3px 1px rgba(60, 64, 67, 0.15);\n",
              "      fill: #174EA6;\n",
              "    }\n",
              "\n",
              "    [theme=dark] .colab-df-convert {\n",
              "      background-color: #3B4455;\n",
              "      fill: #D2E3FC;\n",
              "    }\n",
              "\n",
              "    [theme=dark] .colab-df-convert:hover {\n",
              "      background-color: #434B5C;\n",
              "      box-shadow: 0px 1px 3px 1px rgba(0, 0, 0, 0.15);\n",
              "      filter: drop-shadow(0px 1px 2px rgba(0, 0, 0, 0.3));\n",
              "      fill: #FFFFFF;\n",
              "    }\n",
              "  </style>\n",
              "\n",
              "      <script>\n",
              "        const buttonEl =\n",
              "          document.querySelector('#df-9da546d9-f96d-44ce-aca0-a9c279b5242c button.colab-df-convert');\n",
              "        buttonEl.style.display =\n",
              "          google.colab.kernel.accessAllowed ? 'block' : 'none';\n",
              "\n",
              "        async function convertToInteractive(key) {\n",
              "          const element = document.querySelector('#df-9da546d9-f96d-44ce-aca0-a9c279b5242c');\n",
              "          const dataTable =\n",
              "            await google.colab.kernel.invokeFunction('convertToInteractive',\n",
              "                                                     [key], {});\n",
              "          if (!dataTable) return;\n",
              "\n",
              "          const docLinkHtml = 'Like what you see? Visit the ' +\n",
              "            '<a target=\"_blank\" href=https://colab.research.google.com/notebooks/data_table.ipynb>data table notebook</a>'\n",
              "            + ' to learn more about interactive tables.';\n",
              "          element.innerHTML = '';\n",
              "          dataTable['output_type'] = 'display_data';\n",
              "          await google.colab.output.renderOutput(dataTable, element);\n",
              "          const docLink = document.createElement('div');\n",
              "          docLink.innerHTML = docLinkHtml;\n",
              "          element.appendChild(docLink);\n",
              "        }\n",
              "      </script>\n",
              "    </div>\n",
              "  </div>\n",
              "  "
            ]
          },
          "metadata": {},
          "execution_count": 20
        }
      ]
    },
    {
      "cell_type": "markdown",
      "source": [
        "# Regression"
      ],
      "metadata": {
        "id": "adx2nP9SGpmB"
      }
    },
    {
      "cell_type": "markdown",
      "source": [
        "Fitting a Linear Regression for hours_per_week as the dependent variable and sex as the feature."
      ],
      "metadata": {
        "id": "hvYdOKn9GtHo"
      }
    },
    {
      "cell_type": "code",
      "source": [
        "sns.boxplot(x='sex', y = 'hours_per_week', data = income_df)\n",
        "plt.show()\n",
        "\n",
        "reg = smf.ols('hours_per_week ~ sex', data=income_df).fit()\n",
        "print(reg.summary())\n"
      ],
      "metadata": {
        "colab": {
          "base_uri": "https://localhost:8080/",
          "height": 713
        },
        "id": "pIuJrSi2Hcfa",
        "outputId": "cdd222ce-e8f7-4549-e4cd-a7c2abe04f07"
      },
      "execution_count": null,
      "outputs": [
        {
          "output_type": "display_data",
          "data": {
            "text/plain": [
              "<Figure size 432x288 with 1 Axes>"
            ],
            "image/png": "[encoded data removed]"
          },
          "metadata": {
            "needs_background": "light"
          }
        },
        {
          "output_type": "stream",
          "name": "stdout",
          "text": [
            "                            OLS Regression Results                            \n",
            "==============================================================================\n",
            "Dep. Variable:         hours_per_week   R-squared:                       0.053\n",
            "Model:                            OLS   Adj. R-squared:                  0.053\n",
            "Method:                 Least Squares   F-statistic:                     1807.\n",
            "Date:                Tue, 14 Feb 2023   Prob (F-statistic):               0.00\n",
            "Time:                        07:19:10   Log-Likelihood:            -1.2716e+05\n",
            "No. Observations:               32560   AIC:                         2.543e+05\n",
            "Df Residuals:                   32558   BIC:                         2.543e+05\n",
            "Df Model:                           1                                         \n",
            "Covariance Type:            nonrobust                                         \n",
            "================================================================================\n",
            "                   coef    std err          t      P>|t|      [0.025      0.975]\n",
            "--------------------------------------------------------------------------------\n",
            "Intercept       36.4104      0.116    314.407      0.000      36.183      36.637\n",
            "sex[T. Male]     6.0178      0.142     42.509      0.000       5.740       6.295\n",
            "==============================================================================\n",
            "Omnibus:                     2649.124   Durbin-Watson:                   2.019\n",
            "Prob(Omnibus):                  0.000   Jarque-Bera (JB):            13088.904\n",
            "Skew:                           0.239   Prob(JB):                         0.00\n",
            "Kurtosis:                       6.069   Cond. No.                         3.24\n",
            "==============================================================================\n",
            "\n",
            "Notes:\n",
            "[1] Standard Errors assume that the covariance matrix of the errors is correctly specified.\n"
          ]
        }
      ]
    },
    {
      "cell_type": "markdown",
      "source": [
        "## Analysis\n",
        "\n",
        "From the following code we observe the $\\beta_1$ value is 6.02. This shows that men tend to work more hours. Since, sex is a categorical variable, it first needed to be transformed into a dummy variable where males take value of 1 and females 0. Consequently the intercept shows average hours_per_week for females, $\\beta_1$ shows the average difference in hours between males and females. Thus, a positive correlation indicates men work more hours."
      ],
      "metadata": {
        "id": "YVmjm8ELHL4c"
      }
    },
    {
      "cell_type": "markdown",
      "source": [
        "## Education_num as a Control \n",
        "\n",
        "The following charts show the result of adding education_num as a control variable"
      ],
      "metadata": {
        "id": "dpuGMmWuHdae"
      }
    },
    {
      "cell_type": "code",
      "source": [
        "sns.lmplot(x='education_num', y='hours_per_week', hue='sex', data=income_df)\n",
        "plt.title(\"Relationship between Education and Hours Worked\")\n",
        "plt.show()\n",
        "\n",
        "reg1 = smf.ols('hours_per_week ~ sex + education_num', data=income_df).fit()\n",
        "print(reg1.summary())"
      ],
      "metadata": {
        "colab": {
          "base_uri": "https://localhost:8080/",
          "height": 836
        },
        "id": "CI3haQRzHsQF",
        "outputId": "c07ddd0b-caf4-4c21-955b-77e81323b6c6"
      },
      "execution_count": null,
      "outputs": [
        {
          "output_type": "display_data",
          "data": {
            "text/plain": [
              "<Figure size 435.25x360 with 1 Axes>"
            ],
            "image/png": "[encoded data removed]"
          },
          "metadata": {
            "needs_background": "light"
          }
        },
        {
          "output_type": "stream",
          "name": "stdout",
          "text": [
            "                            OLS Regression Results                            \n",
            "==============================================================================\n",
            "Dep. Variable:         hours_per_week   R-squared:                       0.074\n",
            "Model:                            OLS   Adj. R-squared:                  0.074\n",
            "Method:                 Least Squares   F-statistic:                     1295.\n",
            "Date:                Tue, 14 Feb 2023   Prob (F-statistic):               0.00\n",
            "Time:                        07:19:13   Log-Likelihood:            -1.2679e+05\n",
            "No. Observations:               32560   AIC:                         2.536e+05\n",
            "Df Residuals:                   32557   BIC:                         2.536e+05\n",
            "Df Model:                           2                                         \n",
            "Covariance Type:            nonrobust                                         \n",
            "=================================================================================\n",
            "                    coef    std err          t      P>|t|      [0.025      0.975]\n",
            "---------------------------------------------------------------------------------\n",
            "Intercept        29.4100      0.281    104.550      0.000      28.859      29.961\n",
            "sex[T. Male]      5.9711      0.140     42.653      0.000       5.697       6.245\n",
            "education_num     0.6975      0.026     27.245      0.000       0.647       0.748\n",
            "==============================================================================\n",
            "Omnibus:                     2783.597   Durbin-Watson:                   2.018\n",
            "Prob(Omnibus):                  0.000   Jarque-Bera (JB):            14490.175\n",
            "Skew:                           0.247   Prob(JB):                         0.00\n",
            "Kurtosis:                       6.231   Cond. No.                         45.6\n",
            "==============================================================================\n",
            "\n",
            "Notes:\n",
            "[1] Standard Errors assume that the covariance matrix of the errors is correctly specified.\n"
          ]
        }
      ]
    },
    {
      "cell_type": "markdown",
      "source": [
        "The following charts show the result of adding education_num as a control variable\n",
        "- The trend in hours worked by men and woman remains the same. This is justified by observing the sex coefficient which is 5.97 > 0.\n",
        "- The coefficient for education_num is statistically significant as the p value is immeasurably small (displayed as 0). This means there is a strong correlation between education_num and hours per week\n",
        "- The 95% Confidence interval for education_num vs hours_per_week in about [0.647, 0.748]"
      ],
      "metadata": {
        "id": "fuP-6QUxHsgP"
      }
    },
    {
      "cell_type": "markdown",
      "source": [
        "## Add gross_income_group as a binary variable\n",
        "\n"
      ],
      "metadata": {
        "id": "NORhRXVCHwpW"
      }
    },
    {
      "cell_type": "code",
      "source": [
        "sns.lmplot(data=income_df, x=\"education_num\", y=\"hours_per_week\", hue=\"sex\", col=\"gross_income_group\", fit_reg=True, palette=\"cool\") \n",
        "\n",
        "reg2 = smf.ols('hours_per_week ~ sex + education_num + gross_income_group', data=income_df).fit()\n",
        "print(reg2.summary())"
      ],
      "metadata": {
        "colab": {
          "base_uri": "https://localhost:8080/",
          "height": 838
        },
        "id": "SsZk-b-aH4g2",
        "outputId": "6a9c00aa-1856-4759-a3e3-7c8cebb10d39"
      },
      "execution_count": null,
      "outputs": [
        {
          "output_type": "stream",
          "name": "stdout",
          "text": [
            "                            OLS Regression Results                            \n",
            "==============================================================================\n",
            "Dep. Variable:         hours_per_week   R-squared:                       0.094\n",
            "Model:                            OLS   Adj. R-squared:                  0.094\n",
            "Method:                 Least Squares   F-statistic:                     1130.\n",
            "Date:                Tue, 14 Feb 2023   Prob (F-statistic):               0.00\n",
            "Time:                        07:19:16   Log-Likelihood:            -1.2643e+05\n",
            "No. Observations:               32560   AIC:                         2.529e+05\n",
            "Df Residuals:                   32556   BIC:                         2.529e+05\n",
            "Df Model:                           3                                         \n",
            "Covariance Type:            nonrobust                                         \n",
            "===============================================================================================\n",
            "                                  coef    std err          t      P>|t|      [0.025      0.975]\n",
            "-----------------------------------------------------------------------------------------------\n",
            "Intercept                      31.4214      0.288    109.178      0.000      30.857      31.985\n",
            "sex[T. Male]                    5.1011      0.142     35.907      0.000       4.823       5.380\n",
            "gross_income_group[T. >50K]     4.5172      0.166     27.227      0.000       4.192       4.842\n",
            "education_num                   0.4479      0.027     16.633      0.000       0.395       0.501\n",
            "==============================================================================\n",
            "Omnibus:                     2983.897   Durbin-Watson:                   2.015\n",
            "Prob(Omnibus):                  0.000   Jarque-Bera (JB):            15464.926\n",
            "Skew:                           0.296   Prob(JB):                         0.00\n",
            "Kurtosis:                       6.324   Cond. No.                         48.1\n",
            "==============================================================================\n",
            "\n",
            "Notes:\n",
            "[1] Standard Errors assume that the covariance matrix of the errors is correctly specified.\n"
          ]
        },
        {
          "output_type": "display_data",
          "data": {
            "text/plain": [
              "<Figure size 795.25x360 with 2 Axes>"
            ],
            "image/png": "[encoded data removed]"
          },
          "metadata": {
            "needs_background": "light"
          }
        }
      ]
    },
    {
      "cell_type": "markdown",
      "source": [
        "From the above table we get\n",
        "- The coefficient for sex in each model represents the average difference in response between the male and femals and for each model the coefficients are 6.02, 5.97 and 5.10\n",
        "\n",
        "- Observe the p values for each variable is approximately 0, meaning all 3 features are significant \n",
        "\n",
        "- However, the log Likelihood value is negative indicating that the fit of the model is inadequate."
      ],
      "metadata": {
        "id": "0AqVz6FpqDf0"
      }
    },
    {
      "cell_type": "markdown",
      "source": [
        "To determine the best model, we can use the $R^2$ and RMSE values alongside the log likelihood. From the code below we get:\n",
        "- R-squared: a measure of how well the model fits the data. Higher R-squared values indicate a better fit.\n",
        "- Root Mean Square Error (RMSE): a measure of the difference between the predicted and actual values. Lower RMSE values indicate a better fit.\n"
      ],
      "metadata": {
        "id": "hodpqrVUsMjd"
      }
    },
    {
      "cell_type": "code",
      "source": [
        "from sklearn.model_selection import train_test_split\n",
        "from sklearn.linear_model import LinearRegression\n",
        "from sklearn.metrics import r2_score, mean_squared_error\n",
        "\n",
        "\n",
        "# Split Data Set in Training and Prediction\n",
        "X1 = income_df[\"sex\"]\n",
        "X2 = income_df[[\"sex\", 'education_num']]\n",
        "X3 = income_df[['sex', 'education_num', 'gross_income_group']]\n",
        "Y = income_df['hours_per_week']\n",
        "\n",
        "X1 = pd.get_dummies(X1)\n",
        "X2 = pd.get_dummies(X2, columns=['sex'])\n",
        "X3 = pd.get_dummies(X3, columns=['sex', 'gross_income_group'])\n",
        "\n",
        "\n",
        "X1_train, X1_test, y1_train, y1_test = train_test_split(X1, Y, test_size=0.2)\n",
        "X2_train, X2_test, y2_train, y2_test = train_test_split(X2, Y, test_size=0.2)\n",
        "X3_train, X3_test, y3_train, y3_test = train_test_split(X3, Y, test_size=0.2)\n",
        "\n",
        "\n",
        "#Training the Model\n",
        "model1 = LinearRegression()\n",
        "model2 = LinearRegression()\n",
        "model3 = LinearRegression()\n",
        "\n",
        "model1.fit(X1_train, y1_train)\n",
        "model2.fit(X2_train, y2_train)\n",
        "model3.fit(X3_train, y3_train)\n",
        "\n",
        "#Making \n",
        "y1_pred = model1.predict(X1_test)\n",
        "y2_pred = model2.predict(X2_test)\n",
        "y3_pred = model3.predict(X3_test)\n",
        "\n",
        "# Calculate R^2 and RMSE\n",
        "rmse1 = mean_squared_error(y1_test, y1_pred, squared=False)\n",
        "r_squared1 = model1.score(X1_test, y1_test)\n",
        "rmse2 = mean_squared_error(y2_test, y2_pred, squared=False)\n",
        "r_squared2 = model2.score(X2_test, y2_test)\n",
        "rmse3 = mean_squared_error(y3_test, y3_pred, squared=False)\n",
        "r_squared3 = model3.score(X3_test, y3_test)\n",
        "\n",
        "table = pd.DataFrame({'Linear Regression Model' : ['1', '2', '3'],\n",
        "                   'adjusted R squared' : [r_squared1 ,r_squared2 ,r_squared3], \n",
        "                   'RMSE' : [rmse1, rmse2, rmse3]})\n",
        "\n",
        "print(table)\n"
      ],
      "metadata": {
        "colab": {
          "base_uri": "https://localhost:8080/"
        },
        "id": "Sg8rGyCfpoVI",
        "outputId": "fee9410f-a401-4c22-ed28-b08c6780d9b9"
      },
      "execution_count": null,
      "outputs": [
        {
          "output_type": "stream",
          "name": "stdout",
          "text": [
            "  Linear Regression Model  adjusted R squared       RMSE\n",
            "0                       1            0.044603  12.095892\n",
            "1                       2            0.072109  11.925832\n",
            "2                       3            0.089153  11.928485\n"
          ]
        }
      ]
    },
    {
      "cell_type": "markdown",
      "source": [
        "From the above table we can say:\n",
        "- Since all 3 models have similar RMSE's, we can compare the accuracy of the model with the R-squared value. Since, Model 3 has the highest R-squared, it would be the best out of the 3.\n",
        "- However, note that all 3 models have high RMSE and Low R-squared which is indicative that theses variables are not linearally corrolated."
      ],
      "metadata": {
        "id": "e_8znke0Lac3"
      }
    },
    {
      "cell_type": "markdown",
      "source": [
        "# Own Regression Analysis"
      ],
      "metadata": {
        "id": "mI68JBB8sbZ1"
      }
    },
    {
      "cell_type": "markdown",
      "source": [
        "First we will transform some of the data \n",
        "- Filtering for Married vs Unmarried (If an individual has every been married  before)\n",
        "- Filterning for only necessary columns"
      ],
      "metadata": {
        "id": "L7DTXm5jcdTi"
      }
    },
    {
      "cell_type": "code",
      "source": [
        "df = income_df.copy()\n",
        "marital_status_map = {\n",
        "    ' Never-married':'No',\n",
        "    ' Married-civ-spouse':'Yes', \n",
        "    ' Married-AF-spouse':'Yes', \n",
        "    ' Married-spouse-absent':'Yes', \n",
        "    ' Separated':'Yes', \n",
        "    ' Divorced':'Yes', \n",
        "    ' Widowed':'Yes'\n",
        "}\n",
        "\n",
        "df['marital_status'] = df['marital_status'].map(marital_status_map)\n",
        "df = df[['age', 'marital_status', 'hours_per_week', 'sex']]\n",
        "df.head(10)"
      ],
      "metadata": {
        "colab": {
          "base_uri": "https://localhost:8080/",
          "height": 363
        },
        "id": "9ZGPvNL-ktVV",
        "outputId": "5dbc7e26-0bff-48ad-d0ad-c2747a5160f5"
      },
      "execution_count": null,
      "outputs": [
        {
          "output_type": "execute_result",
          "data": {
            "text/plain": [
              "   age marital_status  hours_per_week      sex\n",
              "0   50            Yes              13     Male\n",
              "1   38            Yes              40     Male\n",
              "2   53            Yes              40     Male\n",
              "3   28            Yes              40   Female\n",
              "4   37            Yes              40   Female\n",
              "5   49            Yes              16   Female\n",
              "6   52            Yes              45     Male\n",
              "7   31             No              50   Female\n",
              "8   42            Yes              40     Male\n",
              "9   37            Yes              80     Male"
            ],
            "text/html": [
              "\n",
              "  <div id=\"df-12ea8247-1232-49a5-b890-96c917d2dc82\">\n",
              "    <div class=\"colab-df-container\">\n",
              "      <div>\n",
              "<style scoped>\n",
              "    .dataframe tbody tr th:only-of-type {\n",
              "        vertical-align: middle;\n",
              "    }\n",
              "\n",
              "    .dataframe tbody tr th {\n",
              "        vertical-align: top;\n",
              "    }\n",
              "\n",
              "    .dataframe thead th {\n",
              "        text-align: right;\n",
              "    }\n",
              "</style>\n",
              "<table border=\"1\" class=\"dataframe\">\n",
              "  <thead>\n",
              "    <tr style=\"text-align: right;\">\n",
              "      <th></th>\n",
              "      <th>age</th>\n",
              "      <th>marital_status</th>\n",
              "      <th>hours_per_week</th>\n",
              "      <th>sex</th>\n",
              "    </tr>\n",
              "  </thead>\n",
              "  <tbody>\n",
              "    <tr>\n",
              "      <th>0</th>\n",
              "      <td>50</td>\n",
              "      <td>Yes</td>\n",
              "      <td>13</td>\n",
              "      <td>Male</td>\n",
              "    </tr>\n",
              "    <tr>\n",
              "      <th>1</th>\n",
              "      <td>38</td>\n",
              "      <td>Yes</td>\n",
              "      <td>40</td>\n",
              "      <td>Male</td>\n",
              "    </tr>\n",
              "    <tr>\n",
              "      <th>2</th>\n",
              "      <td>53</td>\n",
              "      <td>Yes</td>\n",
              "      <td>40</td>\n",
              "      <td>Male</td>\n",
              "    </tr>\n",
              "    <tr>\n",
              "      <th>3</th>\n",
              "      <td>28</td>\n",
              "      <td>Yes</td>\n",
              "      <td>40</td>\n",
              "      <td>Female</td>\n",
              "    </tr>\n",
              "    <tr>\n",
              "      <th>4</th>\n",
              "      <td>37</td>\n",
              "      <td>Yes</td>\n",
              "      <td>40</td>\n",
              "      <td>Female</td>\n",
              "    </tr>\n",
              "    <tr>\n",
              "      <th>5</th>\n",
              "      <td>49</td>\n",
              "      <td>Yes</td>\n",
              "      <td>16</td>\n",
              "      <td>Female</td>\n",
              "    </tr>\n",
              "    <tr>\n",
              "      <th>6</th>\n",
              "      <td>52</td>\n",
              "      <td>Yes</td>\n",
              "      <td>45</td>\n",
              "      <td>Male</td>\n",
              "    </tr>\n",
              "    <tr>\n",
              "      <th>7</th>\n",
              "      <td>31</td>\n",
              "      <td>No</td>\n",
              "      <td>50</td>\n",
              "      <td>Female</td>\n",
              "    </tr>\n",
              "    <tr>\n",
              "      <th>8</th>\n",
              "      <td>42</td>\n",
              "      <td>Yes</td>\n",
              "      <td>40</td>\n",
              "      <td>Male</td>\n",
              "    </tr>\n",
              "    <tr>\n",
              "      <th>9</th>\n",
              "      <td>37</td>\n",
              "      <td>Yes</td>\n",
              "      <td>80</td>\n",
              "      <td>Male</td>\n",
              "    </tr>\n",
              "  </tbody>\n",
              "</table>\n",
              "</div>\n",
              "      <button class=\"colab-df-convert\" onclick=\"convertToInteractive('df-12ea8247-1232-49a5-b890-96c917d2dc82')\"\n",
              "              title=\"Convert this dataframe to an interactive table.\"\n",
              "              style=\"display:none;\">\n",
              "        \n",
              "  <svg xmlns=\"http://www.w3.org/2000/svg\" height=\"24px\"viewBox=\"0 0 24 24\"\n",
              "       width=\"24px\">\n",
              "    <path d=\"M0 0h24v24H0V0z\" fill=\"none\"/>\n",
              "    <path d=\"M18.56 5.44l.94 2.06.94-2.06 2.06-.94-2.06-.94-.94-2.06-.94 2.06-2.06.94zm-11 1L8.5 8.5l.94-2.06 2.06-.94-2.06-.94L8.5 2.5l-.94 2.06-2.06.94zm10 10l.94 2.06.94-2.06 2.06-.94-2.06-.94-.94-2.06-.94 2.06-2.06.94z\"/><path d=\"M17.41 7.96l-1.37-1.37c-.4-.4-.92-.59-1.43-.59-.52 0-1.04.2-1.43.59L10.3 9.45l-7.72 7.72c-.78.78-.78 2.05 0 2.83L4 21.41c.39.39.9.59 1.41.59.51 0 1.02-.2 1.41-.59l7.78-7.78 2.81-2.81c.8-.78.8-2.07 0-2.86zM5.41 20L4 18.59l7.72-7.72 1.47 1.35L5.41 20z\"/>\n",
              "  </svg>\n",
              "      </button>\n",
              "      \n",
              "  <style>\n",
              "    .colab-df-container {\n",
              "      display:flex;\n",
              "      flex-wrap:wrap;\n",
              "      gap: 12px;\n",
              "    }\n",
              "\n",
              "    .colab-df-convert {\n",
              "      background-color: #E8F0FE;\n",
              "      border: none;\n",
              "      border-radius: 50%;\n",
              "      cursor: pointer;\n",
              "      display: none;\n",
              "      fill: #1967D2;\n",
              "      height: 32px;\n",
              "      padding: 0 0 0 0;\n",
              "      width: 32px;\n",
              "    }\n",
              "\n",
              "    .colab-df-convert:hover {\n",
              "      background-color: #E2EBFA;\n",
              "      box-shadow: 0px 1px 2px rgba(60, 64, 67, 0.3), 0px 1px 3px 1px rgba(60, 64, 67, 0.15);\n",
              "      fill: #174EA6;\n",
              "    }\n",
              "\n",
              "    [theme=dark] .colab-df-convert {\n",
              "      background-color: #3B4455;\n",
              "      fill: #D2E3FC;\n",
              "    }\n",
              "\n",
              "    [theme=dark] .colab-df-convert:hover {\n",
              "      background-color: #434B5C;\n",
              "      box-shadow: 0px 1px 3px 1px rgba(0, 0, 0, 0.15);\n",
              "      filter: drop-shadow(0px 1px 2px rgba(0, 0, 0, 0.3));\n",
              "      fill: #FFFFFF;\n",
              "    }\n",
              "  </style>\n",
              "\n",
              "      <script>\n",
              "        const buttonEl =\n",
              "          document.querySelector('#df-12ea8247-1232-49a5-b890-96c917d2dc82 button.colab-df-convert');\n",
              "        buttonEl.style.display =\n",
              "          google.colab.kernel.accessAllowed ? 'block' : 'none';\n",
              "\n",
              "        async function convertToInteractive(key) {\n",
              "          const element = document.querySelector('#df-12ea8247-1232-49a5-b890-96c917d2dc82');\n",
              "          const dataTable =\n",
              "            await google.colab.kernel.invokeFunction('convertToInteractive',\n",
              "                                                     [key], {});\n",
              "          if (!dataTable) return;\n",
              "\n",
              "          const docLinkHtml = 'Like what you see? Visit the ' +\n",
              "            '<a target=\"_blank\" href=https://colab.research.google.com/notebooks/data_table.ipynb>data table notebook</a>'\n",
              "            + ' to learn more about interactive tables.';\n",
              "          element.innerHTML = '';\n",
              "          dataTable['output_type'] = 'display_data';\n",
              "          await google.colab.output.renderOutput(dataTable, element);\n",
              "          const docLink = document.createElement('div');\n",
              "          docLink.innerHTML = docLinkHtml;\n",
              "          element.appendChild(docLink);\n",
              "        }\n",
              "      </script>\n",
              "    </div>\n",
              "  </div>\n",
              "  "
            ]
          },
          "metadata": {},
          "execution_count": 25
        }
      ]
    },
    {
      "cell_type": "markdown",
      "source": [
        "From the following pairwise plots, observe themarital_status between hours per week, Relationship, Sex and age."
      ],
      "metadata": {
        "id": "YN040Pa7seaJ"
      }
    },
    {
      "cell_type": "code",
      "source": [
        "\n",
        "# Create Figure\n",
        "fig, (ax1, ax2, ax3) = plt.subplots(ncols=3, figsize=(20,8))\n",
        "\n",
        "#titles\n",
        "ax1.set_title(\"Boxplot of Sex Against Age\")\n",
        "ax2.set_title(\"Boxplot of Marital Status Against Age\")\n",
        "ax3.set_title(\"Relationship Between Hours Per Week and Age\")\n",
        "\n",
        "sns.boxplot(x='sex', y = 'age', palette=\"cool\", data = df, ax = ax1)\n",
        "sns.boxplot(x='marital_status', y = 'age', palette=\"cool\", data = df, ax = ax2)\n",
        "sns.scatterplot(x='hours_per_week', y = 'age', data = (df.sample(300)), ax = ax3)\n",
        "plt.show()\n"
      ],
      "metadata": {
        "colab": {
          "base_uri": "https://localhost:8080/",
          "height": 514
        },
        "id": "Ky54RNHAOXKW",
        "outputId": "39b2410d-d1f7-4734-d838-db5ce99d61ae"
      },
      "execution_count": null,
      "outputs": [
        {
          "output_type": "display_data",
          "data": {
            "text/plain": [
              "<Figure size 1440x576 with 3 Axes>"
            ],
            "image/png": "[encoded data removed]"
          },
          "metadata": {
            "needs_background": "light"
          }
        }
      ]
    },
    {
      "cell_type": "markdown",
      "source": [
        "Now we create the regresion model and observe its statistics"
      ],
      "metadata": {
        "id": "XpW2MoTxo3vn"
      }
    },
    {
      "cell_type": "code",
      "source": [
        "regression = smf.ols('age ~ sex + marital_status + hours_per_week', data=df).fit()\n",
        "print(regression.summary())\n",
        "\n",
        "table = pd.DataFrame({\"Linear Regression Model\": [\"Model 1\"],\n",
        "                      \"RSS\": [np.sqrt(regression.scale)],\n",
        "                      \"Adjusted R Squared\": [regression.rsquared_adj]})\n",
        "\n",
        "print(table)"
      ],
      "metadata": {
        "colab": {
          "base_uri": "https://localhost:8080/"
        },
        "id": "jR0Zl-ZwaSqn",
        "outputId": "ee97f5a4-7caa-49f5-a425-a93c86d71608"
      },
      "execution_count": null,
      "outputs": [
        {
          "output_type": "stream",
          "name": "stdout",
          "text": [
            "                            OLS Regression Results                            \n",
            "==============================================================================\n",
            "Dep. Variable:                    age   R-squared:                       0.287\n",
            "Model:                            OLS   Adj. R-squared:                  0.287\n",
            "Method:                 Least Squares   F-statistic:                     4368.\n",
            "Date:                Tue, 14 Feb 2023   Prob (F-statistic):               0.00\n",
            "Time:                        07:23:37   Log-Likelihood:            -1.2577e+05\n",
            "No. Observations:               32560   AIC:                         2.516e+05\n",
            "Df Residuals:                   32556   BIC:                         2.516e+05\n",
            "Df Model:                           3                                         \n",
            "Covariance Type:            nonrobust                                         \n",
            "=========================================================================================\n",
            "                            coef    std err          t      P>|t|      [0.025      0.975]\n",
            "-----------------------------------------------------------------------------------------\n",
            "Intercept                29.6829      0.228    130.427      0.000      29.237      30.129\n",
            "sex[T. Male]              0.1473      0.141      1.047      0.295      -0.128       0.423\n",
            "marital_status[T.Yes]    15.7272      0.140    112.392      0.000      15.453      16.001\n",
            "hours_per_week           -0.0437      0.005     -8.115      0.000      -0.054      -0.033\n",
            "==============================================================================\n",
            "Omnibus:                     2890.017   Durbin-Watson:                   1.995\n",
            "Prob(Omnibus):                  0.000   Jarque-Bera (JB):             3881.968\n",
            "Skew:                           0.749   Prob(JB):                         0.00\n",
            "Kurtosis:                       3.786   Cond. No.                         154.\n",
            "==============================================================================\n",
            "\n",
            "Notes:\n",
            "[1] Standard Errors assume that the covariance matrix of the errors is correctly specified.\n",
            "  Linear Regression Model        RSS  Adjusted R Squared\n",
            "0                 Model 1  11.518522            0.286944\n"
          ]
        }
      ]
    },
    {
      "cell_type": "code",
      "source": [],
      "metadata": {
        "id": "8iGPDj6ry42E"
      },
      "execution_count": null,
      "outputs": []
    }
  ]
}